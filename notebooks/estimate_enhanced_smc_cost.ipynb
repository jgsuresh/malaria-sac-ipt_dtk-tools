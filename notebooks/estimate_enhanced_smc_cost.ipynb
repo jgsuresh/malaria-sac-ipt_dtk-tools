{
 "cells": [
  {
   "cell_type": "code",
   "execution_count": 2,
   "metadata": {},
   "outputs": [],
   "source": [
    "import pandas as pd\n",
    "import numpy as np\n",
    "import matplotlib\n",
    "matplotlib.rcParams['pdf.fonttype'] = 42\n",
    "import matplotlib.pyplot as plt\n",
    "import seaborn as sns\n",
    "\n",
    "sns.set_context(\"talk\")\n",
    "sns.set_style(\"white\")"
   ]
  },
  {
   "cell_type": "code",
   "execution_count": 18,
   "metadata": {},
   "outputs": [],
   "source": [
    "marita_df = pd.read_csv(\"marita_results_2021-04-16.csv\")\n",
    "marita_condensed = marita_df[['scenario_number', 'archetype', 'drug_type', 'Scenario',\n",
    "       'cost.CHW', 'cost.RDT', 'cost.drug', 'cost.ACT', 'cost.smc',\n",
    "       'cost.facility', 'cost.severe', 'cost.bednet','cost.smc.ref', 'cost.smc.low', 'cost.low',\n",
    "       'cost', 'cases']]\n",
    "marita_condensed = marita_condensed[marita_condensed[\"archetype\"]==\"Sahel\"].sort_values(by=\"Scenario\").reset_index(drop=True)"
   ]
  },
  {
   "cell_type": "code",
   "execution_count": 4,
   "metadata": {},
   "outputs": [],
   "source": [
    "def get_agg_df_w_baseline(archetype):\n",
    "    def _add_drug_length(df):\n",
    "        df[\"drug_length\"] = -1\n",
    "        df.loc[df[\"drug_type\"]==\"DP\", \"drug_length\"] = 28\n",
    "        df.loc[np.logical_or(df[\"drug_type\"]==\"ASAQ\", df[\"drug_type\"]==\"SPAQ\"), \"drug_length\"] = 14\n",
    "        \n",
    "    scenario_df = pd.read_csv(\"../scenario_master_list.csv\")\n",
    "    scenario_df = scenario_df[scenario_df[\"archetype\"]==archetype].reset_index(drop=True)\n",
    "\n",
    "    if archetype == \"Sahel\":\n",
    "#         df = pd.read_csv(\"endpoints_bdc41c37-b09c-eb11-a2ce-c4346bcb1550.csv\")\n",
    "#         df.drop(df[np.in1d(df['scenario_number'], [35, 36])].index, inplace = True)\n",
    "#         df2 = pd.read_csv(\"endpoints_c1c725ad-e49c-eb11-a2ce-c4346bcb1550.csv\") # has corrected scenarios 35 and 36\n",
    "#         df = pd.concat([df,df2])\n",
    "#         df = pd.read_csv(\"endpoints_1e270e7a-559d-eb11-a2ce-c4346bcb1550.csv\")\n",
    "        df = pd.read_csv(\"endpoints_312b5201-609d-eb11-a2ce-c4346bcb1550.csv\")\n",
    "        df2 = pd.read_csv(\"endpoints_44bed067-43a2-eb11-a2ce-c4346bcb1550.csv\") # SMC with DP\n",
    "        df = pd.concat([df,df2])\n",
    "    elif archetype == \"Southern\":\n",
    "#         df = pd.read_csv(\"endpoints_f70751f3-2d98-eb11-a2ce-c4346bcb1550.csv\") \n",
    "#         df2 = pd.read_csv(\"endpoints_b925ffe3-af9c-eb11-a2ce-c4346bcb1550.csv\")\n",
    "#         df = pd.concat([df, df2])\n",
    "        df = pd.read_csv(\"endpoints_a71e7b31-559d-eb11-a2ce-c4346bcb1550.csv\")\n",
    "        df2 = pd.read_csv(\"endpoints_b7cd3df7-24a2-eb11-a2ce-c4346bcb1550.csv\") #extra ITN scenario\n",
    "        df = pd.concat([df,df2])\n",
    "    \n",
    "\n",
    "    # df cleaning\n",
    "    df[\"out_of_school_rate\"] = np.round(df[\"out_of_school_rate\"],2)\n",
    "    _add_drug_length(df)\n",
    "    df.fillna({\"smc_on\": False,\n",
    "                \"smc_age_range\": \"default\",\n",
    "                \"ivermectin\": False,\n",
    "                \"primaquine\": False}, inplace=True)\n",
    "    \n",
    "    df_baseline = df[df[\"scenario_number\"]==30].groupby(\"burnin_approx_pfpr2_10\").agg(\"mean\").reset_index()\n",
    "#     df_allout = df[df[\"scenario_number\"]==27].groupby(\"burnin_approx_pfpr2_10\").agg(\"mean\").reset_index()\n",
    "\n",
    "    df_agg = df.groupby([\"burnin_approx_pfpr2_10\", \"scenario_number\"]).agg(\"mean\").reset_index().merge(scenario_df, on=\"scenario_number\", suffixes=(\"\",\"_DUPLICATED\"))\n",
    "    df_agg[\"out_of_school_rate\"] = np.round(df_agg[\"out_of_school_rate\"],2)\n",
    "\n",
    "    df_agg_w_baseline = df_agg.merge(df_baseline, on=\"burnin_approx_pfpr2_10\", suffixes=[\"\",\"_BASELINE\"], how=\"left\")\n",
    "    \n",
    "    return df_agg_w_baseline"
   ]
  },
  {
   "cell_type": "code",
   "execution_count": 5,
   "metadata": {},
   "outputs": [],
   "source": [
    "foo = get_agg_df_w_baseline(\"Sahel\")"
   ]
  },
  {
   "cell_type": "markdown",
   "metadata": {},
   "source": [
    "# u10 SMC"
   ]
  },
  {
   "cell_type": "code",
   "execution_count": 54,
   "metadata": {},
   "outputs": [
    {
     "name": "stdout",
     "output_type": "stream",
     "text": [
      "6590.175\n",
      "10378.949999999999\n",
      "14450.675\n"
     ]
    }
   ],
   "source": [
    "df_u5 = foo[foo[\"scenario_number\"]==30].reset_index(drop=True)\n",
    "df_u10 = foo[foo[\"scenario_number\"]==35].reset_index(drop=True)\n",
    "df_u15 = foo[foo[\"scenario_number\"]==36].reset_index(drop=True)\n",
    "df_u10_dp = foo[foo[\"scenario_number\"]==46].reset_index(drop=True)\n",
    "df_u15_dp = foo[foo[\"scenario_number\"]==47].reset_index(drop=True)\n",
    "print(np.mean(df_u5[\"Received_SMC\"]))\n",
    "print(np.mean(df_u10[\"Received_SMC\"]))\n",
    "print(np.mean(df_u15[\"Received_SMC\"]))\n",
    "\n",
    "df_u10_dp[\"case_ratio_to_old\"] = df_u10_dp[\"clinical_incidence_all\"]/df_u10[\"clinical_incidence_all\"]\n",
    "df_u10_dp[\"severe_case_ratio_to_old\"] = df_u10_dp[\"severe_incidence_all\"]/df_u10[\"severe_incidence_all\"]"
   ]
  },
  {
   "cell_type": "code",
   "execution_count": 74,
   "metadata": {},
   "outputs": [
    {
     "data": {
      "text/plain": [
       "0    0.223903\n",
       "1    0.228085\n",
       "2    0.209728\n",
       "3    0.187793\n",
       "Name: clinical_incidence_all, dtype: float64"
      ]
     },
     "execution_count": 74,
     "metadata": {},
     "output_type": "execute_result"
    }
   ],
   "source": [
    "(df_u5[\"clinical_incidence_all\"]-df_u10_dp[\"clinical_incidence_all\"])/df_u5[\"clinical_incidence_all\"]"
   ]
  },
  {
   "cell_type": "code",
   "execution_count": 62,
   "metadata": {
    "scrolled": true
   },
   "outputs": [
    {
     "data": {
      "text/plain": [
       "0    0.740739\n",
       "1    0.902358\n",
       "2    0.995806\n",
       "3    1.070668\n",
       "Name: clinical_incidence_all, dtype: float64"
      ]
     },
     "execution_count": 62,
     "metadata": {},
     "output_type": "execute_result"
    }
   ],
   "source": [
    "df_u10_dp[\"clinical_incidence_all\"]"
   ]
  },
  {
   "cell_type": "code",
   "execution_count": 63,
   "metadata": {},
   "outputs": [
    {
     "data": {
      "text/plain": [
       "0    0.822951\n",
       "1    1.012718\n",
       "2    1.088046\n",
       "3    1.141978\n",
       "Name: clinical_incidence_all, dtype: float64"
      ]
     },
     "execution_count": 63,
     "metadata": {},
     "output_type": "execute_result"
    }
   ],
   "source": [
    "df_u10[\"clinical_incidence_all\"]"
   ]
  },
  {
   "cell_type": "code",
   "execution_count": 42,
   "metadata": {},
   "outputs": [],
   "source": [
    "ipt_cost = marita_condensed[marita_condensed[\"scenario_number\"]==13].reset_index(drop=True)\n",
    "spaq_smc_cost = marita_condensed[marita_condensed[\"scenario_number\"]==35].reset_index(drop=True)\n",
    "dp_smc_cost = spaq_smc_cost.copy(deep=True)"
   ]
  },
  {
   "cell_type": "code",
   "execution_count": 43,
   "metadata": {},
   "outputs": [],
   "source": [
    "dp_smc_cost = dp_smc_cost.merge(spaq_smc_cost, on=\"Scenario\", suffixes=(\"_DP\", \"_SPAQ\"))"
   ]
  },
  {
   "cell_type": "markdown",
   "metadata": {},
   "source": [
    "> I assumed the SMC cost for the u10 and u15 scenarios had SMC cost calculated as: smc cost from scenario 30 (SMC alone) + (number received drugs in SMC - number received drugs in SMC in scenario 30) * drug cost --Marita"
   ]
  },
  {
   "cell_type": "code",
   "execution_count": 70,
   "metadata": {},
   "outputs": [],
   "source": [
    "dp_smc_cost[\"scenario_number_DP\"] = 46\n",
    "dp_smc_cost[\"cost.RDT_DP\"] = dp_smc_cost[\"cost.RDT_SPAQ\"]*df_u10_dp[\"case_ratio_to_old\"]\n",
    "dp_smc_cost[\"cost.ACT_DP\"] = dp_smc_cost[\"cost.ACT_SPAQ\"]*df_u10_dp[\"case_ratio_to_old\"]\n",
    "dp_smc_cost[\"cost.facility_DP\"] = dp_smc_cost[\"cost.facility_SPAQ\"]*df_u10_dp[\"case_ratio_to_old\"]\n",
    "dp_smc_cost[\"cost.severe_DP\"] = dp_smc_cost[\"cost.severe_SPAQ\"]*df_u10_dp[\"severe_case_ratio_to_old\"]\n",
    "\n",
    "dp_smc_cost[\"cost.smc_DP\"] = dp_smc_cost[\"cost.smc_SPAQ\"] * ((3.39+0.22)/3.39)\n",
    "\n",
    "dp_smc_cost[\"cost.smc.ref_DP\"] = dp_smc_cost[\"cost.smc.ref_SPAQ\"] * ((3.39+0.22)/3.39)\n",
    "dp_smc_cost[\"cost.smc.low_DP\"] = dp_smc_cost[\"cost.smc.ref_DP\"] + (10378.949999999999-6590.175)*0.24\n",
    "\n",
    "dp_smc_cost[\"cost_DP\"] = dp_smc_cost[\"cost.RDT_DP\"]+dp_smc_cost[\"cost.ACT_DP\"]+dp_smc_cost[\"cost.facility_DP\"]+\\\n",
    "dp_smc_cost[\"cost.severe_DP\"]+dp_smc_cost[\"cost.smc_DP\"]+dp_smc_cost[\"cost.bednet_DP\"]\n",
    "dp_smc_cost[\"cost.low_DP\"] = dp_smc_cost[\"cost.RDT_DP\"]+dp_smc_cost[\"cost.ACT_DP\"]+dp_smc_cost[\"cost.facility_DP\"]+\\\n",
    "dp_smc_cost[\"cost.severe_DP\"]+dp_smc_cost[\"cost.smc.low_DP\"]+dp_smc_cost[\"cost.bednet_DP\"]"
   ]
  },
  {
   "cell_type": "code",
   "execution_count": 71,
   "metadata": {},
   "outputs": [
    {
     "name": "stdout",
     "output_type": "stream",
     "text": [
      "0    25859.400361\n",
      "1    36696.943379\n",
      "2    45385.774023\n",
      "3    56900.383539\n",
      "dtype: float64\n",
      "0    28802.914586\n",
      "1    41259.957188\n",
      "2    49648.026811\n",
      "3    60799.274803\n",
      "dtype: float64\n"
     ]
    }
   ],
   "source": [
    "print(dp_smc_cost[\"cost.RDT_DP\"]+dp_smc_cost[\"cost.ACT_DP\"]+dp_smc_cost[\"cost.facility_DP\"]+dp_smc_cost[\"cost.severe_DP\"])\n",
    "\n",
    "print(dp_smc_cost[\"cost.RDT_SPAQ\"]+dp_smc_cost[\"cost.ACT_SPAQ\"]+dp_smc_cost[\"cost.facility_SPAQ\"]+dp_smc_cost[\"cost.severe_SPAQ\"])"
   ]
  },
  {
   "cell_type": "code",
   "execution_count": 72,
   "metadata": {},
   "outputs": [
    {
     "name": "stdout",
     "output_type": "stream",
     "text": [
      "0    148360.963109\n",
      "1    154799.619162\n",
      "2    145396.915050\n",
      "3    150402.870364\n",
      "Name: cost.smc_DP, dtype: float64\n",
      "0    139319.574776\n",
      "1    145365.847357\n",
      "2    136536.161224\n",
      "3    141237.044469\n",
      "Name: cost.smc_SPAQ, dtype: float64\n",
      "0    1.064897\n",
      "1    1.064897\n",
      "2    1.064897\n",
      "3    1.064897\n",
      "dtype: float64\n",
      "1.064896755162242\n"
     ]
    }
   ],
   "source": [
    "print(dp_smc_cost[\"cost.smc_DP\"])\n",
    "\n",
    "print(dp_smc_cost[\"cost.smc_SPAQ\"])\n",
    "\n",
    "print(dp_smc_cost[\"cost.smc_DP\"]/dp_smc_cost[\"cost.smc_SPAQ\"])\n",
    "\n",
    "print(((3.39+0.22)/3.39))"
   ]
  },
  {
   "cell_type": "code",
   "execution_count": 73,
   "metadata": {},
   "outputs": [
    {
     "name": "stdout",
     "output_type": "stream",
     "text": [
      "0    27294.670647\n",
      "1    30171.829233\n",
      "2    30317.668059\n",
      "3    33048.150932\n",
      "Name: cost.low_DP, dtype: float64\n",
      "0    29567.169732\n",
      "1    32891.402001\n",
      "2    32990.222074\n",
      "3    35787.928920\n",
      "Name: cost.low_SPAQ, dtype: float64\n"
     ]
    }
   ],
   "source": [
    "print(dp_smc_cost[\"cost.low_DP\"]/5)\n",
    "print(dp_smc_cost[\"cost.low_SPAQ\"]/5)"
   ]
  },
  {
   "cell_type": "code",
   "execution_count": 57,
   "metadata": {},
   "outputs": [
    {
     "data": {
      "text/plain": [
       "0    37617.939895\n",
       "1    41073.179709\n",
       "2    40930.405015\n",
       "3    44234.517981\n",
       "Name: cost_DP, dtype: float64"
      ]
     },
     "execution_count": 57,
     "metadata": {},
     "output_type": "execute_result"
    }
   ],
   "source": [
    "dp_smc_cost[\"cost_DP\"]/5"
   ]
  },
  {
   "cell_type": "code",
   "execution_count": 58,
   "metadata": {},
   "outputs": [
    {
     "data": {
      "text/plain": [
       "0    36398.365073\n",
       "1    40099.028109\n",
       "2    40010.704808\n",
       "3    43181.131055\n",
       "Name: cost_SPAQ, dtype: float64"
      ]
     },
     "execution_count": 58,
     "metadata": {},
     "output_type": "execute_result"
    }
   ],
   "source": [
    "dp_smc_cost[\"cost_SPAQ\"]/5"
   ]
  },
  {
   "cell_type": "code",
   "execution_count": 48,
   "metadata": {
    "scrolled": true
   },
   "outputs": [
    {
     "data": {
      "text/plain": [
       "0    25801.699988\n",
       "1    28934.790248\n",
       "2    28693.693555\n",
       "3    30935.246570\n",
       "Name: cost, dtype: float64"
      ]
     },
     "execution_count": 48,
     "metadata": {},
     "output_type": "execute_result"
    }
   ],
   "source": [
    "ipt_cost[\"cost\"]/5"
   ]
  },
  {
   "cell_type": "markdown",
   "metadata": {},
   "source": [
    "u10 SMC DP results: (for 25% pfpr2-10 baseline)\n",
    "- burden averted: = 21%\n",
    "- cost per 1000 (high) = \\$40,930\n",
    "- cost per 1000 (low) = \\$30,320\n"
   ]
  },
  {
   "cell_type": "markdown",
   "metadata": {},
   "source": [
    "# u15 SMC"
   ]
  },
  {
   "cell_type": "code",
   "execution_count": 75,
   "metadata": {},
   "outputs": [
    {
     "name": "stdout",
     "output_type": "stream",
     "text": [
      "6590.175\n",
      "10378.949999999999\n",
      "14450.675\n"
     ]
    }
   ],
   "source": [
    "df_u5 = foo[foo[\"scenario_number\"]==30].reset_index(drop=True)\n",
    "df_u10 = foo[foo[\"scenario_number\"]==35].reset_index(drop=True)\n",
    "df_u15 = foo[foo[\"scenario_number\"]==36].reset_index(drop=True)\n",
    "df_u10_dp = foo[foo[\"scenario_number\"]==46].reset_index(drop=True)\n",
    "df_u15_dp = foo[foo[\"scenario_number\"]==47].reset_index(drop=True)\n",
    "print(np.mean(df_u5[\"Received_SMC\"]))\n",
    "print(np.mean(df_u10[\"Received_SMC\"]))\n",
    "print(np.mean(df_u15[\"Received_SMC\"]))\n",
    "\n",
    "df_u15_dp[\"case_ratio_to_old\"] = df_u15_dp[\"clinical_incidence_all\"]/df_u15[\"clinical_incidence_all\"]\n",
    "df_u15_dp[\"severe_case_ratio_to_old\"] = df_u15_dp[\"severe_incidence_all\"]/df_u15[\"severe_incidence_all\"]"
   ]
  },
  {
   "cell_type": "code",
   "execution_count": 76,
   "metadata": {},
   "outputs": [
    {
     "data": {
      "text/plain": [
       "0    0.483158\n",
       "1    0.445174\n",
       "2    0.383643\n",
       "3    0.310172\n",
       "Name: clinical_incidence_all, dtype: float64"
      ]
     },
     "execution_count": 76,
     "metadata": {},
     "output_type": "execute_result"
    }
   ],
   "source": [
    "(df_u5[\"clinical_incidence_all\"]-df_u15_dp[\"clinical_incidence_all\"])/df_u5[\"clinical_incidence_all\"]"
   ]
  },
  {
   "cell_type": "code",
   "execution_count": 80,
   "metadata": {},
   "outputs": [],
   "source": [
    "ipt_cost = marita_condensed[marita_condensed[\"scenario_number\"]==13].reset_index(drop=True)\n",
    "spaq_smc_cost = marita_condensed[marita_condensed[\"scenario_number\"]==36].reset_index(drop=True)\n",
    "dp_smc_cost = spaq_smc_cost.copy(deep=True)"
   ]
  },
  {
   "cell_type": "code",
   "execution_count": 81,
   "metadata": {},
   "outputs": [],
   "source": [
    "dp_smc_cost = dp_smc_cost.merge(spaq_smc_cost, on=\"Scenario\", suffixes=(\"_DP\", \"_SPAQ\"))"
   ]
  },
  {
   "cell_type": "code",
   "execution_count": 82,
   "metadata": {},
   "outputs": [],
   "source": [
    "dp_smc_cost[\"scenario_number_DP\"] = 47\n",
    "dp_smc_cost[\"cost.RDT_DP\"] = dp_smc_cost[\"cost.RDT_SPAQ\"]*df_u15_dp[\"case_ratio_to_old\"]\n",
    "dp_smc_cost[\"cost.ACT_DP\"] = dp_smc_cost[\"cost.ACT_SPAQ\"]*df_u15_dp[\"case_ratio_to_old\"]\n",
    "dp_smc_cost[\"cost.facility_DP\"] = dp_smc_cost[\"cost.facility_SPAQ\"]*df_u15_dp[\"case_ratio_to_old\"]\n",
    "dp_smc_cost[\"cost.severe_DP\"] = dp_smc_cost[\"cost.severe_SPAQ\"]*df_u15_dp[\"severe_case_ratio_to_old\"]\n",
    "\n",
    "dp_smc_cost[\"cost.smc_DP\"] = dp_smc_cost[\"cost.smc_SPAQ\"] * ((3.39+0.22)/3.39)\n",
    "\n",
    "dp_smc_cost[\"cost.smc.ref_DP\"] = dp_smc_cost[\"cost.smc.ref_SPAQ\"] * ((3.39+0.22)/3.39)\n",
    "dp_smc_cost[\"cost.smc.low_DP\"] = dp_smc_cost[\"cost.smc.ref_DP\"] + (14450.675-6590.175)*0.24\n",
    "\n",
    "dp_smc_cost[\"cost_DP\"] = dp_smc_cost[\"cost.RDT_DP\"]+dp_smc_cost[\"cost.ACT_DP\"]+dp_smc_cost[\"cost.facility_DP\"]+\\\n",
    "dp_smc_cost[\"cost.severe_DP\"]+dp_smc_cost[\"cost.smc_DP\"]+dp_smc_cost[\"cost.bednet_DP\"]\n",
    "dp_smc_cost[\"cost.low_DP\"] = dp_smc_cost[\"cost.RDT_DP\"]+dp_smc_cost[\"cost.ACT_DP\"]+dp_smc_cost[\"cost.facility_DP\"]+\\\n",
    "dp_smc_cost[\"cost.severe_DP\"]+dp_smc_cost[\"cost.smc.low_DP\"]+dp_smc_cost[\"cost.bednet_DP\"]"
   ]
  },
  {
   "cell_type": "code",
   "execution_count": 83,
   "metadata": {},
   "outputs": [
    {
     "name": "stdout",
     "output_type": "stream",
     "text": [
      "0    17149.710576\n",
      "1    26655.286024\n",
      "2    36014.051831\n",
      "3    49210.411271\n",
      "dtype: float64\n",
      "0    22486.250118\n",
      "1    34441.791344\n",
      "2    43240.027708\n",
      "3    55886.986769\n",
      "dtype: float64\n"
     ]
    }
   ],
   "source": [
    "print(dp_smc_cost[\"cost.RDT_DP\"]+dp_smc_cost[\"cost.ACT_DP\"]+dp_smc_cost[\"cost.facility_DP\"]+dp_smc_cost[\"cost.severe_DP\"])\n",
    "\n",
    "print(dp_smc_cost[\"cost.RDT_SPAQ\"]+dp_smc_cost[\"cost.ACT_SPAQ\"]+dp_smc_cost[\"cost.facility_SPAQ\"]+dp_smc_cost[\"cost.severe_SPAQ\"])"
   ]
  },
  {
   "cell_type": "code",
   "execution_count": 84,
   "metadata": {},
   "outputs": [
    {
     "name": "stdout",
     "output_type": "stream",
     "text": [
      "0    203920.438018\n",
      "1    217255.481863\n",
      "2    207370.912355\n",
      "3    205088.642868\n",
      "Name: cost.smc_DP, dtype: float64\n",
      "0    191493.153706\n",
      "1    204015.535600\n",
      "2    194733.349829\n",
      "3    192590.166017\n",
      "Name: cost.smc_SPAQ, dtype: float64\n",
      "0    1.064897\n",
      "1    1.064897\n",
      "2    1.064897\n",
      "3    1.064897\n",
      "dtype: float64\n",
      "1.064896755162242\n"
     ]
    }
   ],
   "source": [
    "print(dp_smc_cost[\"cost.smc_DP\"])\n",
    "\n",
    "print(dp_smc_cost[\"cost.smc_SPAQ\"])\n",
    "\n",
    "print(dp_smc_cost[\"cost.smc_DP\"]/dp_smc_cost[\"cost.smc_SPAQ\"])\n",
    "\n",
    "print(((3.39+0.22)/3.39))"
   ]
  },
  {
   "cell_type": "code",
   "execution_count": 85,
   "metadata": {},
   "outputs": [
    {
     "name": "stdout",
     "output_type": "stream",
     "text": [
      "0    25748.175490\n",
      "1    28358.940562\n",
      "2    28638.766420\n",
      "3    31705.599279\n",
      "Name: cost.low_DP, dtype: float64\n"
     ]
    }
   ],
   "source": [
    "print(dp_smc_cost[\"cost.low_DP\"]/5)"
   ]
  },
  {
   "cell_type": "code",
   "execution_count": 86,
   "metadata": {},
   "outputs": [
    {
     "name": "stdout",
     "output_type": "stream",
     "text": [
      "0    46987.896919\n",
      "1    51556.020778\n",
      "2    51450.860038\n",
      "3    53633.678028\n",
      "Name: cost_DP, dtype: float64\n"
     ]
    }
   ],
   "source": [
    "print(dp_smc_cost[\"cost_DP\"]/5)"
   ]
  },
  {
   "cell_type": "markdown",
   "metadata": {},
   "source": [
    "u15 SMC DP results: (for 25% pfpr2-10 baseline)\n",
    "- burden averted: = 38%\n",
    "- cost per 1000 (high) = \\$51,450\n",
    "- cost per 1000 (low) = \\$28,640"
   ]
  },
  {
   "cell_type": "code",
   "execution_count": null,
   "metadata": {},
   "outputs": [],
   "source": []
  }
 ],
 "metadata": {
  "kernelspec": {
   "display_name": "Python 3",
   "language": "python",
   "name": "python3"
  },
  "language_info": {
   "codemirror_mode": {
    "name": "ipython",
    "version": 3
   },
   "file_extension": ".py",
   "mimetype": "text/x-python",
   "name": "python",
   "nbconvert_exporter": "python",
   "pygments_lexer": "ipython3",
   "version": "3.6.8"
  }
 },
 "nbformat": 4,
 "nbformat_minor": 4
}
