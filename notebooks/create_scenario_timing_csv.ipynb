{
 "cells": [
  {
   "cell_type": "code",
   "execution_count": 1,
   "metadata": {},
   "outputs": [],
   "source": [
    "import pandas as pd\n",
    "import numpy as np\n",
    "import matplotlib\n",
    "matplotlib.rcParams['pdf.fonttype'] = 42\n",
    "import matplotlib.pyplot as plt\n",
    "import seaborn as sns\n",
    "\n",
    "sns.set_context(\"talk\")\n",
    "sns.set_style(\"darkgrid\")"
   ]
  },
  {
   "cell_type": "code",
   "execution_count": 2,
   "metadata": {},
   "outputs": [],
   "source": [
    "master_df = pd.read_csv(\"../scenario_master_list.csv\")"
   ]
  },
  {
   "cell_type": "markdown",
   "metadata": {},
   "source": [
    "Goal: create exact timing interventions for each archetype and scenario.\n",
    "\n",
    "Columns: archetype, interval, day"
   ]
  },
  {
   "cell_type": "markdown",
   "metadata": {},
   "source": [
    "## Southern:\n",
    "school calendar:\n",
    "\n",
    "- Term 1: mid-Jan to mid-April\n",
    "- Term 2: mid-May to mid-Aug\n",
    "- Term 3: ea Sept to ea Dec\n",
    "\n",
    "Now in terms of day numbers:\n",
    "useful link: https://cals.arizona.edu/azmet/julian.html\n",
    "- Term 1: 15-105\n",
    "- Term 2: 135-227\n",
    "- Term 3: 244-335\n",
    "\n",
    "Take \"monthly\" to be same day of each month:\n",
    "- Term 1 - done on the 15th: 15, 46, 74, 105\n",
    "- Term 2 - done on the 15th: 135, 166, 196, 227\n",
    "- Term 3 - done on the 1st: 244, 274, 305, 335"
   ]
  },
  {
   "cell_type": "code",
   "execution_count": 3,
   "metadata": {},
   "outputs": [],
   "source": [
    "southern_monthly = pd.DataFrame({\n",
    "    \"archetype\": \"Southern\",\n",
    "    \"interval\": \"month\",\n",
    "    \"day\": [15,46,74,105,135,166,196,227,244,274,305,335]\n",
    "})"
   ]
  },
  {
   "cell_type": "code",
   "execution_count": 4,
   "metadata": {},
   "outputs": [
    {
     "data": {
      "text/plain": [
       "[<matplotlib.lines.Line2D at 0x22cdc24cbe0>]"
      ]
     },
     "execution_count": 4,
     "metadata": {},
     "output_type": "execute_result"
    },
    {
     "data": {
      "image/png": "[encoded data removed]",
      "text/plain": [
       "<Figure size 432x288 with 1 Axes>"
      ]
     },
     "metadata": {},
     "output_type": "display_data"
    }
   ],
   "source": [
    "plt.plot(southern_monthly[\"day\"], marker='o')"
   ]
  },
  {
   "cell_type": "markdown",
   "metadata": {},
   "source": [
    "### Set up sweep values to check:"
   ]
  },
  {
   "cell_type": "code",
   "execution_count": 5,
   "metadata": {},
   "outputs": [],
   "source": [
    "import itertools \n",
    "\n",
    "def create_df_from_combinations(input_dict):\n",
    "    variable_names = []\n",
    "    product_input_tuple = ()\n",
    "    for key, value in input_dict.items():\n",
    "        variable_names.append(key)\n",
    "        product_input_tuple += (value,) # this is one way to add things to a tuple, apparently\n",
    "\n",
    "    return pd.DataFrame(list(itertools.product(*product_input_tuple)), columns=variable_names)"
   ]
  },
  {
   "cell_type": "code",
   "execution_count": 6,
   "metadata": {},
   "outputs": [],
   "source": [
    "delta_time = 10\n",
    "t1_days = np.arange(15,105,delta_time)\n",
    "t2_days = np.arange(135,227,delta_time)\n",
    "t3_days = np.arange(244,335,delta_time)\n",
    "\n",
    "if 105 not in t1_days:\n",
    "    t1_days = np.append(t1_days, 105)\n",
    "if 227 not in t2_days:\n",
    "    t2_days = np.append(t2_days, 227)\n",
    "if 335 not in t3_days:\n",
    "    t3_days = np.append(t3_days, 335)\n",
    "    \n",
    "timing_sweep_df = create_df_from_combinations({\n",
    "    \"term1_day\": t1_days,\n",
    "    \"term2_day\": t2_days,\n",
    "    \"term3_day\": t3_days\n",
    "})\n",
    "\n",
    "timing_sweep_df[\"scenario\"] = range(len(timing_sweep_df))"
   ]
  },
  {
   "cell_type": "code",
   "execution_count": 7,
   "metadata": {},
   "outputs": [],
   "source": [
    "timing_sweep_df.to_csv(\"southern_term_sweep_scenarios.csv\", index=False)"
   ]
  },
  {
   "cell_type": "markdown",
   "metadata": {},
   "source": [
    "## Create full intervention df"
   ]
  },
  {
   "cell_type": "code",
   "execution_count": 8,
   "metadata": {},
   "outputs": [],
   "source": [
    "southern_by_term = pd.DataFrame({\n",
    "    \"archetype\": \"Southern\",\n",
    "    \"interval\": \"term\",\n",
    "    \"day\": [15, 165, 254]\n",
    "})"
   ]
  },
  {
   "cell_type": "code",
   "execution_count": 9,
   "metadata": {},
   "outputs": [],
   "source": [
    "southern_by_day = pd.DataFrame({\n",
    "    \"archetype\": \"Southern\",\n",
    "    \"interval\": \"day\",\n",
    "    \"day\": list(range(15,105+1)) + list(range(135,227+1)) + list(range(244,335+1))\n",
    "})"
   ]
  },
  {
   "cell_type": "code",
   "execution_count": 10,
   "metadata": {},
   "outputs": [],
   "source": [
    "southern_all = pd.concat([southern_monthly, southern_by_term, southern_by_day], ignore_index=True)"
   ]
  },
  {
   "cell_type": "code",
   "execution_count": 20,
   "metadata": {},
   "outputs": [],
   "source": [
    "southern_all.to_csv(\"../ipt_schedule.csv\", index=False)"
   ]
  },
  {
   "cell_type": "markdown",
   "metadata": {},
   "source": [
    "# Sahel"
   ]
  },
  {
   "cell_type": "markdown",
   "metadata": {},
   "source": [
    "school calendar:\n",
    "\n",
    "- Term 1: mid-Sept to mid-Dec\n",
    "- Term 2: ea-Jan to end-Mar\n",
    "- Term 3: ea-Apr to end-May\n",
    "\n",
    "Now in terms of day numbers:\n",
    "useful link: https://cals.arizona.edu/azmet/julian.html\n",
    "- Term 1: 258-349\n",
    "- Term 2: 2-90\n",
    "- Term 3: 98-151\n",
    "\n",
    "Take \"monthly\" to be same day of each month:\n",
    "- Term 1 - done on the 15th: 258, 288, 319, 349\n",
    "- Term 2 - done on the ~1st: 2, 32, 60, 90, \n",
    "- Term 3 - done on the 15th: 105, 135"
   ]
  },
  {
   "cell_type": "code",
   "execution_count": 14,
   "metadata": {},
   "outputs": [],
   "source": [
    "sahel_monthly = pd.DataFrame({\n",
    "    \"archetype\": \"Sahel\",\n",
    "    \"interval\": \"month\",\n",
    "#     \"day\": [2,32,60,90,105,135,258,288,319,349]\n",
    "    \"day\": [105,135,258,288,319,349]\n",
    "})"
   ]
  },
  {
   "cell_type": "code",
   "execution_count": 13,
   "metadata": {},
   "outputs": [
    {
     "data": {
      "text/plain": [
       "[<matplotlib.lines.Line2D at 0x22cdc3dc3c8>]"
      ]
     },
     "execution_count": 13,
     "metadata": {},
     "output_type": "execute_result"
    },
    {
     "data": {
      "image/png": "[encoded data removed]",
      "text/plain": [
       "<Figure size 432x288 with 1 Axes>"
      ]
     },
     "metadata": {},
     "output_type": "display_data"
    }
   ],
   "source": [
    "plt.plot(sahel_monthly[\"day\"]/30, marker='o')"
   ]
  },
  {
   "cell_type": "code",
   "execution_count": 24,
   "metadata": {},
   "outputs": [],
   "source": [
    "delta_time = 10\n",
    "t1_days = np.arange(258,349,delta_time)\n",
    "t2_days = np.arange(2,90,delta_time)\n",
    "t3_days = np.arange(95,151,delta_time)\n",
    "\n",
    "if 349 not in t1_days:\n",
    "    t1_days = np.append(t1_days, 349)\n",
    "if 90 not in t2_days:\n",
    "    t2_days = np.append(t2_days, 90)\n",
    "if 151 not in t3_days:\n",
    "    t3_days = np.append(t3_days, 151)\n",
    "    \n",
    "timing_sweep_df = create_df_from_combinations({\n",
    "    \"term1_day\": t1_days,\n",
    "    \"term2_day\": t2_days,\n",
    "    \"term3_day\": t3_days\n",
    "})\n",
    "\n",
    "timing_sweep_df[\"scenario\"] = range(len(timing_sweep_df))"
   ]
  },
  {
   "cell_type": "code",
   "execution_count": 25,
   "metadata": {},
   "outputs": [],
   "source": [
    "timing_sweep_df.to_csv(\"sahel_term_sweep_scenarios.csv\", index=False)"
   ]
  },
  {
   "cell_type": "markdown",
   "metadata": {},
   "source": [
    "### Add Sahel to full intervention df"
   ]
  },
  {
   "cell_type": "code",
   "execution_count": 15,
   "metadata": {},
   "outputs": [],
   "source": [
    "# best_timing = df[np.logical_and.reduce([\n",
    "#     df[\"term1_day\"]==278, # October 5\n",
    "#     df[\"term2_day\"]==2, # Jan 2\n",
    "#     df[\"term3_day\"]==151])] # May 31\n",
    "\n",
    "sahel_by_term = pd.DataFrame({\n",
    "    \"archetype\": \"Sahel\",\n",
    "    \"interval\": \"term\",\n",
    "    \"day\": [2, 151, 278]\n",
    "})\n",
    "\n",
    "sahel_by_day = pd.DataFrame({\n",
    "    \"archetype\": \"Sahel\",\n",
    "    \"interval\": \"day\",\n",
    "    \"day\": list(range(2,90+1)) + list(range(95,151+1)) + list(range(258,349+1))\n",
    "})\n",
    "\n",
    "sahel_all = pd.concat([sahel_monthly, sahel_by_term, sahel_by_day], ignore_index=True)"
   ]
  },
  {
   "cell_type": "code",
   "execution_count": 16,
   "metadata": {},
   "outputs": [],
   "source": [
    "df_all = pd.concat([southern_all, sahel_all], ignore_index=True)\n",
    "df_all.to_csv(\"../ipt_schedule.csv\", index=False)"
   ]
  },
  {
   "cell_type": "code",
   "execution_count": 9,
   "metadata": {},
   "outputs": [],
   "source": [
    "df_all = pd.read_csv(\"../ipt_schedule.csv\")"
   ]
  },
  {
   "cell_type": "code",
   "execution_count": 10,
   "metadata": {},
   "outputs": [],
   "source": [
    "df_all = pd.concat([df_all, sahel_all], ignore_index=True)"
   ]
  },
  {
   "cell_type": "code",
   "execution_count": 12,
   "metadata": {},
   "outputs": [],
   "source": [
    "df_all.to_csv(\"../ipt_schedule.csv\", index=False)"
   ]
  },
  {
   "cell_type": "markdown",
   "metadata": {},
   "source": [
    "# Central"
   ]
  },
  {
   "cell_type": "code",
   "execution_count": null,
   "metadata": {},
   "outputs": [],
   "source": [
    "array([  5,  15,  25,  35,  45,  51,  60,  70,  80,  90, 100, 105, 121,\n",
    "       131, 141, 151, 161, 171, 181, 182, 244, 254, 264, 274, 284, 288,\n",
    "       305, 315, 325, 335, 345, 349])"
   ]
  },
  {
   "cell_type": "code",
   "execution_count": null,
   "metadata": {},
   "outputs": [],
   "source": [
    "t1 = np.arange(5,51, delta_time) #Jan 5-Feb 20\n",
    "t2 = np.arange(60, 105, delta_time)# Mar 1-mid Apr\n",
    "t3 = np.arange(121, 182, delta_time) # May 1 - July 1\n",
    "t4 = np.arange(244, 288, delta_time)# Sept 1- mid Oct\n",
    "t5 = np.arange(305, 349, delta_time) # Nov - mid Dec"
   ]
  },
  {
   "cell_type": "code",
   "execution_count": 5,
   "metadata": {},
   "outputs": [],
   "source": [
    "central_by_month = pd.DataFrame({\n",
    "    \"archetype\": \"Central\",\n",
    "    \"interval\": \"month\",\n",
    "    \"day\": [5,35,60,90,121,151,181,244,274,305,335]\n",
    "})\n",
    "\n",
    "central_by_term = pd.DataFrame({\n",
    "    \"archetype\": \"Central\",\n",
    "    \"interval\": \"term\",\n",
    "    \"day\": [60,264,349]\n",
    "})\n",
    "\n",
    "central_by_day = pd.DataFrame({\n",
    "    \"archetype\": \"Central\",\n",
    "    \"interval\": \"day\",\n",
    "    \"day\": list(range(5,51+1)) + list(range(60,105+1)) + list(range(121,182+1)) + list(range(244,288+1)) + list(range(305,349+1))\n",
    "})\n",
    "\n",
    "central_all = pd.concat([central_by_month, central_by_term, central_by_day], ignore_index=True)"
   ]
  },
  {
   "cell_type": "code",
   "execution_count": 6,
   "metadata": {},
   "outputs": [],
   "source": [
    "df_all = pd.read_csv(\"../ipt_schedule.csv\")"
   ]
  },
  {
   "cell_type": "code",
   "execution_count": 7,
   "metadata": {},
   "outputs": [],
   "source": [
    "df_all = pd.concat([df_all, central_all], ignore_index=True)"
   ]
  },
  {
   "cell_type": "code",
   "execution_count": 8,
   "metadata": {},
   "outputs": [],
   "source": [
    "df_all.to_csv(\"../ipt_schedule.csv\", index=False)"
   ]
  },
  {
   "cell_type": "code",
   "execution_count": null,
   "metadata": {},
   "outputs": [],
   "source": []
  }
 ],
 "metadata": {
  "kernelspec": {
   "display_name": "Python 3",
   "language": "python",
   "name": "python3"
  },
  "language_info": {
   "codemirror_mode": {
    "name": "ipython",
    "version": 3
   },
   "file_extension": ".py",
   "mimetype": "text/x-python",
   "name": "python",
   "nbconvert_exporter": "python",
   "pygments_lexer": "ipython3",
   "version": "3.6.8"
  }
 },
 "nbformat": 4,
 "nbformat_minor": 4
}
