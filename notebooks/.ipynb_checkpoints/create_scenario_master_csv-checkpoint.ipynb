{
 "cells": [
  {
   "cell_type": "code",
   "execution_count": 1,
   "metadata": {},
   "outputs": [],
   "source": [
    "import pandas as pd\n",
    "import numpy as np\n",
    "import matplotlib\n",
    "matplotlib.rcParams['pdf.fonttype'] = 42\n",
    "import matplotlib.pyplot as plt\n",
    "import seaborn as sns\n",
    "\n",
    "sns.set_context(\"talk\")\n",
    "sns.set_style(\"darkgrid\")"
   ]
  },
  {
   "cell_type": "code",
   "execution_count": 2,
   "metadata": {},
   "outputs": [],
   "source": [
    "def create_df_from_combinations(input_dict):\n",
    "    variable_names = []\n",
    "    product_input_tuple = ()\n",
    "    for key, value in input_dict.items():\n",
    "        variable_names.append(key)\n",
    "        product_input_tuple += (value,) # this is one way to add things to a tuple, apparently\n",
    "\n",
    "    return pd.DataFrame(list(itertools.product(*product_input_tuple)), columns=variable_names)"
   ]
  },
  {
   "cell_type": "markdown",
   "metadata": {},
   "source": [
    "Scenarios:\n",
    "- Archetypes\n",
    "- Drugs: DP vs 14-day drug (archetype dependent)\n",
    "- Screening type: IPT vs IST\n",
    "- Interval: once per term vs once per month\n",
    "- Background transmission intensity: 5 levels\n",
    "- Within-school coverage: 5 levels?\n",
    "- Treatment-seeking rate: low vs default (not combinatorial)\n",
    "- Bednet coverage: default vs high (not combinatorial)\n",
    "\n",
    "For \"not combinatorial\", this means "
   ]
  },
  {
   "cell_type": "code",
   "execution_count": null,
   "metadata": {},
   "outputs": [],
   "source": []
  },
  {
   "cell_type": "code",
   "execution_count": 3,
   "metadata": {},
   "outputs": [],
   "source": [
    "scenario_variations = {\n",
    "    \"drug_type\": [\"ASAQ\",\"DP\"],\n",
    "    \"screen_type\": [\"IPT\", \"IST\"],\n",
    "    \"interval\": [\"term\", \"month\"],\n",
    "    \"school_coverage\": [0.6,0.8,1.0],\n",
    "    \"itn_coverage\": [\"default\"],\n",
    "    \"hs_rate\": [\"default\"]\n",
    "}\n",
    "\n"
   ]
  },
  {
   "cell_type": "code",
   "execution_count": null,
   "metadata": {},
   "outputs": [],
   "source": []
  }
 ],
 "metadata": {
  "kernelspec": {
   "display_name": "Python 3",
   "language": "python",
   "name": "python3"
  },
  "language_info": {
   "codemirror_mode": {
    "name": "ipython",
    "version": 3
   },
   "file_extension": ".py",
   "mimetype": "text/x-python",
   "name": "python",
   "nbconvert_exporter": "python",
   "pygments_lexer": "ipython3",
   "version": "3.6.8"
  }
 },
 "nbformat": 4,
 "nbformat_minor": 4
}
