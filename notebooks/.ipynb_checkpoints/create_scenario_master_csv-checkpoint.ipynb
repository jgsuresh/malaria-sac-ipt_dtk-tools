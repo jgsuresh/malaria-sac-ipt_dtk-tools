{
 "cells": [
  {
   "cell_type": "code",
   "execution_count": 1,
   "metadata": {},
   "outputs": [],
   "source": [
    "import pandas as pd\n",
    "import numpy as np\n",
    "import matplotlib\n",
    "matplotlib.rcParams['pdf.fonttype'] = 42\n",
    "import matplotlib.pyplot as plt\n",
    "import seaborn as sns\n",
    "\n",
    "sns.set_context(\"talk\")\n",
    "sns.set_style(\"darkgrid\")"
   ]
  },
  {
   "cell_type": "code",
   "execution_count": 6,
   "metadata": {},
   "outputs": [],
   "source": [
    "import itertools \n",
    "\n",
    "def create_df_from_combinations(input_dict):\n",
    "    variable_names = []\n",
    "    product_input_tuple = ()\n",
    "    for key, value in input_dict.items():\n",
    "        variable_names.append(key)\n",
    "        product_input_tuple += (value,) # this is one way to add things to a tuple, apparently\n",
    "\n",
    "    return pd.DataFrame(list(itertools.product(*product_input_tuple)), columns=variable_names)"
   ]
  },
  {
   "cell_type": "markdown",
   "metadata": {},
   "source": [
    "Scenarios:\n",
    "- Archetypes\n",
    "- Drugs: DP vs 14-day drug (archetype dependent)\n",
    "- Screening type: IPT vs IST\n",
    "- Interval: once per term vs once per month\n",
    "- Background transmission intensity: 5 levels\n",
    "- Within-school coverage: 5 levels?\n",
    "- Treatment-seeking rate: low vs default (not combinatorial)\n",
    "- Bednet coverage: default vs high (not combinatorial)\n",
    "\n",
    "For \"not combinatorial\", this means adding a single row for that variation, rather than including all combinations"
   ]
  },
  {
   "cell_type": "markdown",
   "metadata": {},
   "source": [
    "\n",
    "- Sahel: SPAQ (would also consider ASAQ as an alternative)\n",
    "- Coastal West Africa: SPAQ (would also consider ASAQ as an alternative)\n",
    "- Central Africa: ASAQ\n",
    "- East Africa: ASAQ and SPAQ (the later is only because Sarah mentioned they are trying it for SMC in some areas of Uganda)\n",
    "- Southern Africa: ASAQ\""
   ]
  },
  {
   "cell_type": "code",
   "execution_count": 21,
   "metadata": {},
   "outputs": [],
   "source": [
    "def basic_scenarios(archetype):\n",
    "    if archetype == \"Southern\" or archetype == \"Central\":\n",
    "        drugs = [\"ASAQ\",\"DP\"]\n",
    "    elif archetype == \"Eastern\":\n",
    "        drugs = [\"ASAQ\",\"SPAQ\",\"DP\"]\n",
    "    elif archetype == \"Coastal Western\" or archetype == \"Sahel\":\n",
    "        drugs = [\"SPAQ\",\"DP\"]\n",
    "    \n",
    "    scenario_variations = {\n",
    "        \"drug_type\": drugs,\n",
    "        \"screen_type\": [\"IPT\", \"IST\"],\n",
    "        \"interval\": [\"term\", \"month\"],\n",
    "        \"school_coverage\": [0.6,0.8,1.0],\n",
    "        \"itn_coverage\": [\"default\"],\n",
    "        \"hs_rate\": [\"default\"]\n",
    "    }\n",
    "\n",
    "    df_combinatorial = create_df_from_combinations(scenario_variations)\n",
    "\n",
    "    df_not_combinatorial = pd.DataFrame({\n",
    "        \"drug_type\": [\"DP\", \"DP\", \"DP\"],\n",
    "        \"screen_type\": [\"IPT\", \"IPT\", \"IPT\"],\n",
    "        \"interval\": [\"month\", \"month\", \"day\"],\n",
    "        \"school_coverage\": [0.8, 0.8, 1.0],\n",
    "        \"itn_coverage\": [\"low\", \"default\", \"default\"],\n",
    "        \"hs_rate\": [\"default\", \"high\", \"default\"]\n",
    "    })\n",
    "\n",
    "    scenario_df = pd.concat([df_combinatorial, df_not_combinatorial], ignore_index=True)\n",
    "    scenario_df[\"scenario_number\"] = range(len(scenario_df))\n",
    "    scenario_df[\"archetype\"] = archetype\n",
    "    \n",
    "    return scenario_df"
   ]
  },
  {
   "cell_type": "code",
   "execution_count": 22,
   "metadata": {},
   "outputs": [],
   "source": [
    "archetype_list = [\"Southern\", \"Central\", \"Eastern\", \"Coastal Western\", \"Sahel\"]"
   ]
  },
  {
   "cell_type": "code",
   "execution_count": 25,
   "metadata": {},
   "outputs": [],
   "source": [
    "df_list = []\n",
    "for a in archetype_list:\n",
    "    df_list.append(basic_scenarios(a))\n",
    "df_full = pd.concat(df_list, ignore_index=True)"
   ]
  },
  {
   "cell_type": "code",
   "execution_count": 39,
   "metadata": {},
   "outputs": [],
   "source": [
    "# Purely aesthetic: put archetype first\n",
    "cols = list(df_full.columns.values)\n",
    "df_full = df_full[[cols[-1]]+cols[:-1]]"
   ]
  },
  {
   "cell_type": "code",
   "execution_count": 41,
   "metadata": {},
   "outputs": [],
   "source": [
    "df_full.to_csv(\"scenario_master_list.csv\", index=False)"
   ]
  },
  {
   "cell_type": "code",
   "execution_count": null,
   "metadata": {},
   "outputs": [],
   "source": []
  }
 ],
 "metadata": {
  "kernelspec": {
   "display_name": "Python 3",
   "language": "python",
   "name": "python3"
  },
  "language_info": {
   "codemirror_mode": {
    "name": "ipython",
    "version": 3
   },
   "file_extension": ".py",
   "mimetype": "text/x-python",
   "name": "python",
   "nbconvert_exporter": "python",
   "pygments_lexer": "ipython3",
   "version": "3.6.8"
  }
 },
 "nbformat": 4,
 "nbformat_minor": 4
}
