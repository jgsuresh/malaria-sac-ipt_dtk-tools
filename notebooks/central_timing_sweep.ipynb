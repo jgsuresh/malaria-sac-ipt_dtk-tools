{
 "cells": [
  {
   "cell_type": "code",
   "execution_count": 2,
   "metadata": {},
   "outputs": [],
   "source": [
    "import pandas as pd\n",
    "import numpy as np\n",
    "import matplotlib\n",
    "matplotlib.rcParams['pdf.fonttype'] = 42\n",
    "import matplotlib.pyplot as plt\n",
    "import seaborn as sns\n",
    "\n",
    "sns.set_context(\"talk\")\n",
    "sns.set_style(\"darkgrid\")"
   ]
  },
  {
   "cell_type": "markdown",
   "metadata": {},
   "source": [
    "Need to deal with the fact that DRC doesn't have clear school terms.  Instead, just have a minimum spacing of 6 weeks between subsequent doses.\n",
    "\n",
    "Ideas:\n",
    "- Sweep over, every 10 days, for first dose\n",
    "- For each of d1, d2 is >= 6 weeks after.  Sweep every 10 days that satisfy this\n",
    "- For each of d2, d3 is >= 6 weeks after and <= 6 weeks from d1+365.  Sweep every 10 days that satisfy this,"
   ]
  },
  {
   "cell_type": "code",
   "execution_count": 3,
   "metadata": {},
   "outputs": [],
   "source": [
    "min_delta_doses = 50 #approximately 7 weeks"
   ]
  },
  {
   "cell_type": "code",
   "execution_count": 4,
   "metadata": {},
   "outputs": [
    {
     "data": {
      "text/plain": [
       "'\\ndelta_time = 10\\nt1_days = np.arange(15,105,delta_time)\\nt2_days = np.arange(135,227,delta_time)\\nt3_days = np.arange(244,335,delta_time)\\n\\nif 105 not in t1_days:\\n    t1_days = np.append(t1_days, 105)\\nif 227 not in t2_days:\\n    t2_days = np.append(t2_days, 227)\\nif 335 not in t3_days:\\n    t3_days = np.append(t3_days, 335)\\n'"
      ]
     },
     "execution_count": 4,
     "metadata": {},
     "output_type": "execute_result"
    }
   ],
   "source": [
    "# t1 = np.arange(5,51+1) #Jan 5-Feb 20\n",
    "# t2 = np.arange(60, 105+1)# Mar 1-mid Apr\n",
    "# t3 = np.arange(121, 182+1) # May 1 - July 1\n",
    "# t4 = np.arange(244, 288+1)# Sept 1- mid Oct\n",
    "# t5 = np.arange(305, 349+1) # Nov - mid Dec\n",
    "# central_school_days = np.concatenate([t1,t2,t3,t4,t5])\n",
    "\n",
    "delta_time = 10\n",
    "t1 = np.arange(5, 51, delta_time) # Jan 5-Feb 20\n",
    "t2 = np.arange(60, 105, delta_time) # Mar 1-mid Apr\n",
    "t3 = np.arange(121, 182, delta_time) # May 1 - July 1\n",
    "t4 = np.arange(244, 288, delta_time) # Sept 1- mid Oct\n",
    "t5 = np.arange(305, 349, delta_time) # Nov - mid Dec\n",
    "\n",
    "end_day_list = [51,105,182,288,349]\n",
    "term_list = [t1,t2,t3,t4,t5]\n",
    "for i in range(5):\n",
    "    end_day = end_day_list[i]\n",
    "    if end_day not in term_list[i]:\n",
    "        term_list[i] = np.append(term_list[i], end_day)\n",
    "        \n",
    "central_school_days = np.concatenate(term_list)\n",
    "    \n",
    "    \n",
    "\"\"\"\n",
    "delta_time = 10\n",
    "t1_days = np.arange(15,105,delta_time)\n",
    "t2_days = np.arange(135,227,delta_time)\n",
    "t3_days = np.arange(244,335,delta_time)\n",
    "\n",
    "if 105 not in t1_days:\n",
    "    t1_days = np.append(t1_days, 105)\n",
    "if 227 not in t2_days:\n",
    "    t2_days = np.append(t2_days, 227)\n",
    "if 335 not in t3_days:\n",
    "    t3_days = np.append(t3_days, 335)\n",
    "\"\"\"\n",
    "\n",
    "# t1_possible = np.arange\n",
    "# potential_campaign_days = "
   ]
  },
  {
   "cell_type": "code",
   "execution_count": 5,
   "metadata": {},
   "outputs": [
    {
     "name": "stdout",
     "output_type": "stream",
     "text": [
      "39304\n"
     ]
    }
   ],
   "source": [
    "len(central_school_days)\n",
    "print(34**3)"
   ]
  },
  {
   "cell_type": "code",
   "execution_count": 6,
   "metadata": {},
   "outputs": [],
   "source": [
    "d1_choices = central_school_days[central_school_days < 365-2*min_delta_doses]\n",
    "# d1 = d1[d1<365-2*min_delta_doses]\n",
    "\n",
    "df_list = []\n",
    "\n",
    "for d1_option in d1_choices:\n",
    "    d2_choices = central_school_days[np.logical_and(central_school_days >= d1_option + min_delta_doses,\n",
    "                                                    central_school_days < 365 - min_delta_doses)]\n",
    "    for d2_option in d2_choices:\n",
    "        d3_choices = central_school_days[np.logical_and(central_school_days >= d2_option + min_delta_doses,\n",
    "                                                        central_school_days < 365 + d1_option - min_delta_doses)]\n",
    "        \n",
    "        if len(d3_choices) > 0:\n",
    "            df_list.append(pd.DataFrame({\n",
    "                \"term1_day\": d1_option,\n",
    "                \"term2_day\": d2_option,\n",
    "                \"term3_day\": d3_choices\n",
    "            }))\n",
    "            #fixme Of course, these terms don't make as much sense here, but it's just easier for reusing code from other archetypes\n",
    "\n",
    "            "
   ]
  },
  {
   "cell_type": "code",
   "execution_count": 7,
   "metadata": {},
   "outputs": [
    {
     "data": {
      "text/plain": [
       "array([  5,  15,  25,  35,  45,  51,  60,  70,  80,  90, 100, 105, 121,\n",
       "       131, 141, 151, 161, 171, 181, 182, 244, 254, 264, 274, 284, 288,\n",
       "       305, 315, 325, 335, 345, 349])"
      ]
     },
     "execution_count": 7,
     "metadata": {},
     "output_type": "execute_result"
    }
   ],
   "source": [
    "central_school_days"
   ]
  },
  {
   "cell_type": "code",
   "execution_count": 8,
   "metadata": {},
   "outputs": [],
   "source": [
    "df = pd.concat(df_list)"
   ]
  },
  {
   "cell_type": "code",
   "execution_count": 9,
   "metadata": {},
   "outputs": [],
   "source": [
    "df[\"scenario_number\"] = np.arange(len(df))"
   ]
  },
  {
   "cell_type": "code",
   "execution_count": 10,
   "metadata": {},
   "outputs": [],
   "source": [
    "df.to_csv(\"central_term_sweep_scenarios.csv\", index=False)"
   ]
  },
  {
   "cell_type": "code",
   "execution_count": 11,
   "metadata": {},
   "outputs": [
    {
     "data": {
      "text/html": [
       "<div>\n",
       "<style scoped>\n",
       "    .dataframe tbody tr th:only-of-type {\n",
       "        vertical-align: middle;\n",
       "    }\n",
       "\n",
       "    .dataframe tbody tr th {\n",
       "        vertical-align: top;\n",
       "    }\n",
       "\n",
       "    .dataframe thead th {\n",
       "        text-align: right;\n",
       "    }\n",
       "</style>\n",
       "<table border=\"1\" class=\"dataframe\">\n",
       "  <thead>\n",
       "    <tr style=\"text-align: right;\">\n",
       "      <th></th>\n",
       "      <th>term1_day</th>\n",
       "      <th>term2_day</th>\n",
       "      <th>term3_day</th>\n",
       "      <th>scenario_number</th>\n",
       "    </tr>\n",
       "  </thead>\n",
       "  <tbody>\n",
       "    <tr>\n",
       "      <th>0</th>\n",
       "      <td>5</td>\n",
       "      <td>60</td>\n",
       "      <td>121</td>\n",
       "      <td>0</td>\n",
       "    </tr>\n",
       "    <tr>\n",
       "      <th>1</th>\n",
       "      <td>5</td>\n",
       "      <td>60</td>\n",
       "      <td>131</td>\n",
       "      <td>1</td>\n",
       "    </tr>\n",
       "    <tr>\n",
       "      <th>2</th>\n",
       "      <td>5</td>\n",
       "      <td>60</td>\n",
       "      <td>141</td>\n",
       "      <td>2</td>\n",
       "    </tr>\n",
       "    <tr>\n",
       "      <th>3</th>\n",
       "      <td>5</td>\n",
       "      <td>60</td>\n",
       "      <td>151</td>\n",
       "      <td>3</td>\n",
       "    </tr>\n",
       "    <tr>\n",
       "      <th>4</th>\n",
       "      <td>5</td>\n",
       "      <td>60</td>\n",
       "      <td>161</td>\n",
       "      <td>4</td>\n",
       "    </tr>\n",
       "    <tr>\n",
       "      <th>...</th>\n",
       "      <td>...</td>\n",
       "      <td>...</td>\n",
       "      <td>...</td>\n",
       "      <td>...</td>\n",
       "    </tr>\n",
       "    <tr>\n",
       "      <th>0</th>\n",
       "      <td>182</td>\n",
       "      <td>284</td>\n",
       "      <td>335</td>\n",
       "      <td>1850</td>\n",
       "    </tr>\n",
       "    <tr>\n",
       "      <th>1</th>\n",
       "      <td>182</td>\n",
       "      <td>284</td>\n",
       "      <td>345</td>\n",
       "      <td>1851</td>\n",
       "    </tr>\n",
       "    <tr>\n",
       "      <th>2</th>\n",
       "      <td>182</td>\n",
       "      <td>284</td>\n",
       "      <td>349</td>\n",
       "      <td>1852</td>\n",
       "    </tr>\n",
       "    <tr>\n",
       "      <th>0</th>\n",
       "      <td>182</td>\n",
       "      <td>288</td>\n",
       "      <td>345</td>\n",
       "      <td>1853</td>\n",
       "    </tr>\n",
       "    <tr>\n",
       "      <th>1</th>\n",
       "      <td>182</td>\n",
       "      <td>288</td>\n",
       "      <td>349</td>\n",
       "      <td>1854</td>\n",
       "    </tr>\n",
       "  </tbody>\n",
       "</table>\n",
       "<p>1855 rows × 4 columns</p>\n",
       "</div>"
      ],
      "text/plain": [
       "    term1_day  term2_day  term3_day  scenario_number\n",
       "0           5         60        121                0\n",
       "1           5         60        131                1\n",
       "2           5         60        141                2\n",
       "3           5         60        151                3\n",
       "4           5         60        161                4\n",
       "..        ...        ...        ...              ...\n",
       "0         182        284        335             1850\n",
       "1         182        284        345             1851\n",
       "2         182        284        349             1852\n",
       "0         182        288        345             1853\n",
       "1         182        288        349             1854\n",
       "\n",
       "[1855 rows x 4 columns]"
      ]
     },
     "execution_count": 11,
     "metadata": {},
     "output_type": "execute_result"
    }
   ],
   "source": [
    "df"
   ]
  },
  {
   "cell_type": "markdown",
   "metadata": {},
   "source": [
    "# Output"
   ]
  },
  {
   "cell_type": "code",
   "execution_count": 12,
   "metadata": {},
   "outputs": [],
   "source": [
    "df = pd.read_csv(\"timing_sweep_50f4222d-ccb4-eb11-a2e3-c4346bcb7275.csv\")"
   ]
  },
  {
   "cell_type": "code",
   "execution_count": 13,
   "metadata": {},
   "outputs": [],
   "source": [
    "timings_df = pd.read_csv(\"central_term_sweep_scenarios.csv\")\n",
    "df = pd.merge(df,timings_df, on=\"scenario_number\")"
   ]
  },
  {
   "cell_type": "code",
   "execution_count": 14,
   "metadata": {},
   "outputs": [
    {
     "data": {
      "text/html": [
       "<div>\n",
       "<style scoped>\n",
       "    .dataframe tbody tr th:only-of-type {\n",
       "        vertical-align: middle;\n",
       "    }\n",
       "\n",
       "    .dataframe tbody tr th {\n",
       "        vertical-align: top;\n",
       "    }\n",
       "\n",
       "    .dataframe thead th {\n",
       "        text-align: right;\n",
       "    }\n",
       "</style>\n",
       "<table border=\"1\" class=\"dataframe\">\n",
       "  <thead>\n",
       "    <tr style=\"text-align: right;\">\n",
       "      <th></th>\n",
       "      <th>pfpr2_10</th>\n",
       "      <th>sim_id</th>\n",
       "      <th>exe_collection_id</th>\n",
       "      <th>input_collection_id</th>\n",
       "      <th>Run_Number</th>\n",
       "      <th>scenario_number</th>\n",
       "      <th>term1_day</th>\n",
       "      <th>term2_day</th>\n",
       "      <th>term3_day</th>\n",
       "    </tr>\n",
       "  </thead>\n",
       "  <tbody>\n",
       "    <tr>\n",
       "      <th>0</th>\n",
       "      <td>0.394099</td>\n",
       "      <td>ffbe5f49-ccb4-eb11-a2e3-c4346bcb7275</td>\n",
       "      <td>cb8d1f2b-44c8-ea11-a2c6-c4346bcb1557</td>\n",
       "      <td>d79eb282-6ca8-eb11-a2e3-c4346bcb7275</td>\n",
       "      <td>0</td>\n",
       "      <td>48</td>\n",
       "      <td>5</td>\n",
       "      <td>90</td>\n",
       "      <td>151</td>\n",
       "    </tr>\n",
       "    <tr>\n",
       "      <th>1</th>\n",
       "      <td>0.393215</td>\n",
       "      <td>3883f6f3-ccb4-eb11-a2e3-c4346bcb7275</td>\n",
       "      <td>cb8d1f2b-44c8-ea11-a2c6-c4346bcb1557</td>\n",
       "      <td>d79eb282-6ca8-eb11-a2e3-c4346bcb7275</td>\n",
       "      <td>2</td>\n",
       "      <td>48</td>\n",
       "      <td>5</td>\n",
       "      <td>90</td>\n",
       "      <td>151</td>\n",
       "    </tr>\n",
       "    <tr>\n",
       "      <th>2</th>\n",
       "      <td>0.395831</td>\n",
       "      <td>4a9747a4-ccb4-eb11-a2e3-c4346bcb7275</td>\n",
       "      <td>cb8d1f2b-44c8-ea11-a2c6-c4346bcb1557</td>\n",
       "      <td>d79eb282-6ca8-eb11-a2e3-c4346bcb7275</td>\n",
       "      <td>1</td>\n",
       "      <td>48</td>\n",
       "      <td>5</td>\n",
       "      <td>90</td>\n",
       "      <td>151</td>\n",
       "    </tr>\n",
       "    <tr>\n",
       "      <th>3</th>\n",
       "      <td>0.395973</td>\n",
       "      <td>56bf5f49-ccb4-eb11-a2e3-c4346bcb7275</td>\n",
       "      <td>cb8d1f2b-44c8-ea11-a2c6-c4346bcb1557</td>\n",
       "      <td>d79eb282-6ca8-eb11-a2e3-c4346bcb7275</td>\n",
       "      <td>0</td>\n",
       "      <td>181</td>\n",
       "      <td>15</td>\n",
       "      <td>80</td>\n",
       "      <td>171</td>\n",
       "    </tr>\n",
       "    <tr>\n",
       "      <th>4</th>\n",
       "      <td>0.392703</td>\n",
       "      <td>659b44aa-ccb4-eb11-a2e3-c4346bcb7275</td>\n",
       "      <td>cb8d1f2b-44c8-ea11-a2c6-c4346bcb1557</td>\n",
       "      <td>d79eb282-6ca8-eb11-a2e3-c4346bcb7275</td>\n",
       "      <td>1</td>\n",
       "      <td>181</td>\n",
       "      <td>15</td>\n",
       "      <td>80</td>\n",
       "      <td>171</td>\n",
       "    </tr>\n",
       "    <tr>\n",
       "      <th>...</th>\n",
       "      <td>...</td>\n",
       "      <td>...</td>\n",
       "      <td>...</td>\n",
       "      <td>...</td>\n",
       "      <td>...</td>\n",
       "      <td>...</td>\n",
       "      <td>...</td>\n",
       "      <td>...</td>\n",
       "      <td>...</td>\n",
       "    </tr>\n",
       "    <tr>\n",
       "      <th>4915</th>\n",
       "      <td>0.387620</td>\n",
       "      <td>2e0bc5ed-ccb4-eb11-a2e3-c4346bcb7275</td>\n",
       "      <td>cb8d1f2b-44c8-ea11-a2c6-c4346bcb1557</td>\n",
       "      <td>d79eb282-6ca8-eb11-a2e3-c4346bcb7275</td>\n",
       "      <td>1</td>\n",
       "      <td>1799</td>\n",
       "      <td>171</td>\n",
       "      <td>284</td>\n",
       "      <td>345</td>\n",
       "    </tr>\n",
       "    <tr>\n",
       "      <th>4916</th>\n",
       "      <td>0.386601</td>\n",
       "      <td>c7af849d-ccb4-eb11-a2e3-c4346bcb7275</td>\n",
       "      <td>cb8d1f2b-44c8-ea11-a2c6-c4346bcb1557</td>\n",
       "      <td>d79eb282-6ca8-eb11-a2e3-c4346bcb7275</td>\n",
       "      <td>0</td>\n",
       "      <td>1813</td>\n",
       "      <td>181</td>\n",
       "      <td>254</td>\n",
       "      <td>345</td>\n",
       "    </tr>\n",
       "    <tr>\n",
       "      <th>4917</th>\n",
       "      <td>0.381851</td>\n",
       "      <td>3d0bc5ed-ccb4-eb11-a2e3-c4346bcb7275</td>\n",
       "      <td>cb8d1f2b-44c8-ea11-a2c6-c4346bcb1557</td>\n",
       "      <td>d79eb282-6ca8-eb11-a2e3-c4346bcb7275</td>\n",
       "      <td>1</td>\n",
       "      <td>1813</td>\n",
       "      <td>181</td>\n",
       "      <td>254</td>\n",
       "      <td>345</td>\n",
       "    </tr>\n",
       "    <tr>\n",
       "      <th>4918</th>\n",
       "      <td>0.390616</td>\n",
       "      <td>8baf849d-ccb4-eb11-a2e3-c4346bcb7275</td>\n",
       "      <td>cb8d1f2b-44c8-ea11-a2c6-c4346bcb1557</td>\n",
       "      <td>d79eb282-6ca8-eb11-a2e3-c4346bcb7275</td>\n",
       "      <td>0</td>\n",
       "      <td>1754</td>\n",
       "      <td>161</td>\n",
       "      <td>244</td>\n",
       "      <td>335</td>\n",
       "    </tr>\n",
       "    <tr>\n",
       "      <th>4919</th>\n",
       "      <td>0.389273</td>\n",
       "      <td>070bc5ed-ccb4-eb11-a2e3-c4346bcb7275</td>\n",
       "      <td>cb8d1f2b-44c8-ea11-a2c6-c4346bcb1557</td>\n",
       "      <td>d79eb282-6ca8-eb11-a2e3-c4346bcb7275</td>\n",
       "      <td>1</td>\n",
       "      <td>1754</td>\n",
       "      <td>161</td>\n",
       "      <td>244</td>\n",
       "      <td>335</td>\n",
       "    </tr>\n",
       "  </tbody>\n",
       "</table>\n",
       "<p>4920 rows × 9 columns</p>\n",
       "</div>"
      ],
      "text/plain": [
       "      pfpr2_10                                sim_id  \\\n",
       "0     0.394099  ffbe5f49-ccb4-eb11-a2e3-c4346bcb7275   \n",
       "1     0.393215  3883f6f3-ccb4-eb11-a2e3-c4346bcb7275   \n",
       "2     0.395831  4a9747a4-ccb4-eb11-a2e3-c4346bcb7275   \n",
       "3     0.395973  56bf5f49-ccb4-eb11-a2e3-c4346bcb7275   \n",
       "4     0.392703  659b44aa-ccb4-eb11-a2e3-c4346bcb7275   \n",
       "...        ...                                   ...   \n",
       "4915  0.387620  2e0bc5ed-ccb4-eb11-a2e3-c4346bcb7275   \n",
       "4916  0.386601  c7af849d-ccb4-eb11-a2e3-c4346bcb7275   \n",
       "4917  0.381851  3d0bc5ed-ccb4-eb11-a2e3-c4346bcb7275   \n",
       "4918  0.390616  8baf849d-ccb4-eb11-a2e3-c4346bcb7275   \n",
       "4919  0.389273  070bc5ed-ccb4-eb11-a2e3-c4346bcb7275   \n",
       "\n",
       "                         exe_collection_id  \\\n",
       "0     cb8d1f2b-44c8-ea11-a2c6-c4346bcb1557   \n",
       "1     cb8d1f2b-44c8-ea11-a2c6-c4346bcb1557   \n",
       "2     cb8d1f2b-44c8-ea11-a2c6-c4346bcb1557   \n",
       "3     cb8d1f2b-44c8-ea11-a2c6-c4346bcb1557   \n",
       "4     cb8d1f2b-44c8-ea11-a2c6-c4346bcb1557   \n",
       "...                                    ...   \n",
       "4915  cb8d1f2b-44c8-ea11-a2c6-c4346bcb1557   \n",
       "4916  cb8d1f2b-44c8-ea11-a2c6-c4346bcb1557   \n",
       "4917  cb8d1f2b-44c8-ea11-a2c6-c4346bcb1557   \n",
       "4918  cb8d1f2b-44c8-ea11-a2c6-c4346bcb1557   \n",
       "4919  cb8d1f2b-44c8-ea11-a2c6-c4346bcb1557   \n",
       "\n",
       "                       input_collection_id  Run_Number  scenario_number  \\\n",
       "0     d79eb282-6ca8-eb11-a2e3-c4346bcb7275           0               48   \n",
       "1     d79eb282-6ca8-eb11-a2e3-c4346bcb7275           2               48   \n",
       "2     d79eb282-6ca8-eb11-a2e3-c4346bcb7275           1               48   \n",
       "3     d79eb282-6ca8-eb11-a2e3-c4346bcb7275           0              181   \n",
       "4     d79eb282-6ca8-eb11-a2e3-c4346bcb7275           1              181   \n",
       "...                                    ...         ...              ...   \n",
       "4915  d79eb282-6ca8-eb11-a2e3-c4346bcb7275           1             1799   \n",
       "4916  d79eb282-6ca8-eb11-a2e3-c4346bcb7275           0             1813   \n",
       "4917  d79eb282-6ca8-eb11-a2e3-c4346bcb7275           1             1813   \n",
       "4918  d79eb282-6ca8-eb11-a2e3-c4346bcb7275           0             1754   \n",
       "4919  d79eb282-6ca8-eb11-a2e3-c4346bcb7275           1             1754   \n",
       "\n",
       "      term1_day  term2_day  term3_day  \n",
       "0             5         90        151  \n",
       "1             5         90        151  \n",
       "2             5         90        151  \n",
       "3            15         80        171  \n",
       "4            15         80        171  \n",
       "...         ...        ...        ...  \n",
       "4915        171        284        345  \n",
       "4916        181        254        345  \n",
       "4917        181        254        345  \n",
       "4918        161        244        335  \n",
       "4919        161        244        335  \n",
       "\n",
       "[4920 rows x 9 columns]"
      ]
     },
     "execution_count": 14,
     "metadata": {},
     "output_type": "execute_result"
    }
   ],
   "source": [
    "df"
   ]
  },
  {
   "cell_type": "code",
   "execution_count": 15,
   "metadata": {},
   "outputs": [],
   "source": [
    "t1 = df.groupby(\"term1_day\").agg({\"pfpr2_10\": \"median\"}).reset_index()\n",
    "t2 = df.groupby(\"term2_day\").agg({\"pfpr2_10\": \"median\"}).reset_index()\n",
    "t3 = df.groupby(\"term3_day\").agg({\"pfpr2_10\": \"median\"}).reset_index()"
   ]
  },
  {
   "cell_type": "code",
   "execution_count": 16,
   "metadata": {},
   "outputs": [
    {
     "data": {
      "text/plain": [
       "<matplotlib.legend.Legend at 0x1c6cba536a0>"
      ]
     },
     "execution_count": 16,
     "metadata": {},
     "output_type": "execute_result"
    },
    {
     "data": {
      "image/png": "[encoded data removed]",
      "text/plain": [
       "<Figure size 1200x800 with 1 Axes>"
      ]
     },
     "metadata": {},
     "output_type": "display_data"
    }
   ],
   "source": [
    "plt.figure(dpi=200)\n",
    "plt.plot(t1[\"term1_day\"], t1[\"pfpr2_10\"], marker='o', label=\"Term 1\")\n",
    "plt.plot(t2[\"term2_day\"], t2[\"pfpr2_10\"], marker='o', label=\"Term 2\")\n",
    "plt.plot(t3[\"term3_day\"], t3[\"pfpr2_10\"], marker='o', label=\"Term 3\")\n",
    "# plt.axhline(baseline_pfpr, label=\"Baseline (no IPT)\", color=\"C4\", linestyle='dashed')\n",
    "plt.xlabel(\"Day\")\n",
    "plt.ylabel(\"PfPR2-10\")\n",
    "plt.legend()\n",
    "# plt.ylim([0.24,0.50])\n",
    "# plt.savefig(\"sahel_timing_sweep_example.pdf\")"
   ]
  },
  {
   "cell_type": "code",
   "execution_count": 17,
   "metadata": {},
   "outputs": [
    {
     "data": {
      "text/plain": [
       "{60,\n",
       " 70,\n",
       " 80,\n",
       " 90,\n",
       " 100,\n",
       " 105,\n",
       " 121,\n",
       " 131,\n",
       " 141,\n",
       " 151,\n",
       " 161,\n",
       " 171,\n",
       " 181,\n",
       " 182,\n",
       " 244,\n",
       " 254,\n",
       " 264,\n",
       " 274,\n",
       " 284,\n",
       " 288}"
      ]
     },
     "execution_count": 17,
     "metadata": {},
     "output_type": "execute_result"
    }
   ],
   "source": [
    "set(df[\"term2_day\"])"
   ]
  },
  {
   "cell_type": "code",
   "execution_count": 18,
   "metadata": {},
   "outputs": [
    {
     "data": {
      "text/plain": [
       "<matplotlib.legend.Legend at 0x1c6cbba3550>"
      ]
     },
     "execution_count": 18,
     "metadata": {},
     "output_type": "execute_result"
    },
    {
     "data": {
      "image/png": "[encoded data removed]",
      "text/plain": [
       "<Figure size 432x288 with 1 Axes>"
      ]
     },
     "metadata": {},
     "output_type": "display_data"
    }
   ],
   "source": [
    "df_refine = df[df[\"term1_day\"]==5]\n",
    "t2_refine = df_refine.groupby(\"term2_day\").agg({\"pfpr2_10\": \"mean\"}).reset_index()\n",
    "\n",
    "plt.plot(t2[\"term2_day\"], t2[\"pfpr2_10\"], marker='o', label=\"Term 2\")\n",
    "plt.plot(t2_refine[\"term2_day\"], t2_refine[\"pfpr2_10\"], marker='o', label=\"Term 2 refined\")\n",
    "plt.legend()"
   ]
  },
  {
   "cell_type": "code",
   "execution_count": 19,
   "metadata": {},
   "outputs": [
    {
     "data": {
      "text/plain": [
       "{60,\n",
       " 70,\n",
       " 80,\n",
       " 90,\n",
       " 100,\n",
       " 105,\n",
       " 121,\n",
       " 131,\n",
       " 141,\n",
       " 151,\n",
       " 161,\n",
       " 171,\n",
       " 181,\n",
       " 182,\n",
       " 244,\n",
       " 254,\n",
       " 264,\n",
       " 274,\n",
       " 284,\n",
       " 288}"
      ]
     },
     "execution_count": 19,
     "metadata": {},
     "output_type": "execute_result"
    }
   ],
   "source": [
    "set(df[\"term2_day\"])"
   ]
  },
  {
   "cell_type": "code",
   "execution_count": 20,
   "metadata": {},
   "outputs": [
    {
     "data": {
      "text/plain": [
       "<matplotlib.legend.Legend at 0x1c6cbc14e10>"
      ]
     },
     "execution_count": 20,
     "metadata": {},
     "output_type": "execute_result"
    },
    {
     "data": {
      "image/png": "[encoded data removed]",
      "text/plain": [
       "<Figure size 432x288 with 1 Axes>"
      ]
     },
     "metadata": {},
     "output_type": "display_data"
    }
   ],
   "source": [
    "df_refine = df[np.logical_and(df[\"term1_day\"]==5, df[\"term2_day\"]==60)]\n",
    "t3_refine = df_refine.groupby(\"term3_day\").agg({\"pfpr2_10\": \"mean\"}).reset_index()\n",
    "\n",
    "plt.plot(t3[\"term3_day\"], t3[\"pfpr2_10\"], marker='o', label=\"Term 3\")\n",
    "plt.plot(t3_refine[\"term3_day\"], t3_refine[\"pfpr2_10\"], marker='o', label=\"Term 3 refined\")\n",
    "plt.legend()"
   ]
  },
  {
   "cell_type": "code",
   "execution_count": 21,
   "metadata": {},
   "outputs": [
    {
     "data": {
      "text/plain": [
       "Index(['pfpr2_10', 'sim_id', 'exe_collection_id', 'input_collection_id',\n",
       "       'Run_Number', 'scenario_number', 'term1_day', 'term2_day', 'term3_day'],\n",
       "      dtype='object')"
      ]
     },
     "execution_count": 21,
     "metadata": {},
     "output_type": "execute_result"
    }
   ],
   "source": [
    "df.columns"
   ]
  },
  {
   "cell_type": "code",
   "execution_count": 22,
   "metadata": {},
   "outputs": [],
   "source": [
    "df_agg = df.groupby(\"scenario_number\").agg(\"mean\").reset_index()"
   ]
  },
  {
   "cell_type": "code",
   "execution_count": 23,
   "metadata": {},
   "outputs": [],
   "source": [
    "x = df_agg.sort_values(by=\"pfpr2_10\").head(100)"
   ]
  },
  {
   "cell_type": "code",
   "execution_count": 24,
   "metadata": {},
   "outputs": [
    {
     "data": {
      "text/plain": [
       "(array([ 1.,  2.,  0.,  0.,  6., 13., 12.,  0., 21., 45.]),\n",
       " array([274. , 281.5, 289. , 296.5, 304. , 311.5, 319. , 326.5, 334. ,\n",
       "        341.5, 349. ]),\n",
       " <BarContainer object of 10 artists>)"
      ]
     },
     "execution_count": 24,
     "metadata": {},
     "output_type": "execute_result"
    },
    {
     "data": {
      "image/png": "[encoded data removed]",
      "text/plain": [
       "<Figure size 432x288 with 1 Axes>"
      ]
     },
     "metadata": {},
     "output_type": "display_data"
    }
   ],
   "source": [
    "plt.hist(x[\"term1_day\"])\n",
    "plt.hist(x[\"term2_day\"])\n",
    "plt.hist(x[\"term3_day\"])"
   ]
  },
  {
   "cell_type": "code",
   "execution_count": 25,
   "metadata": {},
   "outputs": [
    {
     "data": {
      "text/plain": [
       "(array([ 1.,  0.,  0.,  0.,  0.,  0.,  0.,  0.,  0.,  0.,  0.,  1.,  0.,\n",
       "         0.,  0.,  0.,  0.,  1.,  0.,  0.,  0.,  0.,  0.,  0.,  0.,  0.,\n",
       "         0.,  0.,  0.,  0.,  0.,  0.,  0.,  0.,  0.,  1.,  0.,  0.,  0.,\n",
       "         0.,  0.,  0.,  0.,  0.,  0.,  0.,  0.,  0.,  0.,  0.,  0.,  0.,\n",
       "         0.,  0.,  0.,  0.,  0.,  0.,  0.,  0.,  0.,  0.,  0.,  0.,  0.,\n",
       "         0.,  0.,  0.,  0.,  0.,  0.,  0.,  0.,  1.,  0.,  0.,  0.,  0.,\n",
       "         0., 33.,  0.,  0.,  0.,  0.,  0., 27.,  0.,  0.,  0.,  0.,  0.,\n",
       "        20.,  0.,  0.,  0.,  0.,  0., 10.,  0.,  5.]),\n",
       " array([121.  , 122.67, 124.34, 126.01, 127.68, 129.35, 131.02, 132.69,\n",
       "        134.36, 136.03, 137.7 , 139.37, 141.04, 142.71, 144.38, 146.05,\n",
       "        147.72, 149.39, 151.06, 152.73, 154.4 , 156.07, 157.74, 159.41,\n",
       "        161.08, 162.75, 164.42, 166.09, 167.76, 169.43, 171.1 , 172.77,\n",
       "        174.44, 176.11, 177.78, 179.45, 181.12, 182.79, 184.46, 186.13,\n",
       "        187.8 , 189.47, 191.14, 192.81, 194.48, 196.15, 197.82, 199.49,\n",
       "        201.16, 202.83, 204.5 , 206.17, 207.84, 209.51, 211.18, 212.85,\n",
       "        214.52, 216.19, 217.86, 219.53, 221.2 , 222.87, 224.54, 226.21,\n",
       "        227.88, 229.55, 231.22, 232.89, 234.56, 236.23, 237.9 , 239.57,\n",
       "        241.24, 242.91, 244.58, 246.25, 247.92, 249.59, 251.26, 252.93,\n",
       "        254.6 , 256.27, 257.94, 259.61, 261.28, 262.95, 264.62, 266.29,\n",
       "        267.96, 269.63, 271.3 , 272.97, 274.64, 276.31, 277.98, 279.65,\n",
       "        281.32, 282.99, 284.66, 286.33, 288.  ]),\n",
       " <BarContainer object of 100 artists>)"
      ]
     },
     "execution_count": 25,
     "metadata": {},
     "output_type": "execute_result"
    },
    {
     "data": {
      "image/png": "[encoded data removed]",
      "text/plain": [
       "<Figure size 432x288 with 1 Axes>"
      ]
     },
     "metadata": {},
     "output_type": "display_data"
    }
   ],
   "source": [
    "plt.hist(x[\"term2_day\"], bins=100)"
   ]
  },
  {
   "cell_type": "code",
   "execution_count": 26,
   "metadata": {},
   "outputs": [],
   "source": [
    "# So Term 2 day should be 254, 264, or 274"
   ]
  },
  {
   "cell_type": "code",
   "execution_count": 27,
   "metadata": {},
   "outputs": [
    {
     "name": "stdout",
     "output_type": "stream",
     "text": [
      "1855\n",
      "273\n"
     ]
    }
   ],
   "source": [
    "print(len(df_agg))\n",
    "print(len(df_agg[np.in1d(df_agg[\"term2_day\"], [254, 264,274])]))"
   ]
  },
  {
   "cell_type": "code",
   "execution_count": 107,
   "metadata": {},
   "outputs": [],
   "source": [
    "x2 = df_agg[np.in1d(df_agg[\"term2_day\"], [254, 264,274])].sort_values(by=\"pfpr2_10\").head(20)"
   ]
  },
  {
   "cell_type": "code",
   "execution_count": 110,
   "metadata": {},
   "outputs": [
    {
     "data": {
      "text/plain": [
       "(array([ 2.,  0.,  1.,  0.,  2.,  0.,  4.,  0.,  0., 11.]),\n",
       " array([305. , 309.4, 313.8, 318.2, 322.6, 327. , 331.4, 335.8, 340.2,\n",
       "        344.6, 349. ]),\n",
       " <BarContainer object of 10 artists>)"
      ]
     },
     "execution_count": 110,
     "metadata": {},
     "output_type": "execute_result"
    },
    {
     "data": {
      "image/png": "[encoded data removed]",
      "text/plain": [
       "<Figure size 432x288 with 1 Axes>"
      ]
     },
     "metadata": {},
     "output_type": "display_data"
    }
   ],
   "source": [
    "plt.hist(x2[\"term1_day\"])\n",
    "plt.hist(x2[\"term3_day\"])"
   ]
  },
  {
   "cell_type": "code",
   "execution_count": 112,
   "metadata": {},
   "outputs": [
    {
     "data": {
      "text/plain": [
       "{305.0, 315.0, 325.0, 335.0, 345.0, 349.0}"
      ]
     },
     "execution_count": 112,
     "metadata": {},
     "output_type": "execute_result"
    }
   ],
   "source": [
    "set(x2[\"term3_day\"])"
   ]
  },
  {
   "cell_type": "code",
   "execution_count": null,
   "metadata": {},
   "outputs": [],
   "source": [
    "# So Term 3 day should be 349"
   ]
  },
  {
   "cell_type": "code",
   "execution_count": 28,
   "metadata": {},
   "outputs": [],
   "source": [
    "h = df_agg[np.logical_and(np.in1d(df_agg[\"term2_day\"], [254, 264,274]),\n",
    "                         df_agg[\"term3_day\"]==349)]\n",
    "x3 = h.sort_values(by=\"pfpr2_10\")"
   ]
  },
  {
   "cell_type": "code",
   "execution_count": 32,
   "metadata": {},
   "outputs": [
    {
     "data": {
      "text/plain": [
       "<matplotlib.collections.PathCollection at 0x1c6cbef1358>"
      ]
     },
     "execution_count": 32,
     "metadata": {},
     "output_type": "execute_result"
    },
    {
     "data": {
      "image/png": "[encoded data removed]",
      "text/plain": [
       "<Figure size 432x288 with 1 Axes>"
      ]
     },
     "metadata": {},
     "output_type": "display_data"
    }
   ],
   "source": [
    "plt.scatter(np.arange(len(x3)),x3[\"term1_day\"])"
   ]
  },
  {
   "cell_type": "code",
   "execution_count": 34,
   "metadata": {},
   "outputs": [
    {
     "data": {
      "text/plain": [
       "<matplotlib.collections.PathCollection at 0x1c6cbd17048>"
      ]
     },
     "execution_count": 34,
     "metadata": {},
     "output_type": "execute_result"
    },
    {
     "data": {
      "image/png": "[encoded data removed]",
      "text/plain": [
       "<Figure size 432x288 with 1 Axes>"
      ]
     },
     "metadata": {},
     "output_type": "display_data"
    }
   ],
   "source": [
    "plt.scatter(x3[\"term1_day\"], x3[\"pfpr2_10\"])"
   ]
  },
  {
   "cell_type": "code",
   "execution_count": 36,
   "metadata": {},
   "outputs": [
    {
     "data": {
      "text/plain": [
       "{35.0,\n",
       " 45.0,\n",
       " 51.0,\n",
       " 60.0,\n",
       " 70.0,\n",
       " 80.0,\n",
       " 90.0,\n",
       " 100.0,\n",
       " 105.0,\n",
       " 121.0,\n",
       " 131.0,\n",
       " 141.0,\n",
       " 151.0,\n",
       " 161.0,\n",
       " 171.0,\n",
       " 181.0,\n",
       " 182.0}"
      ]
     },
     "execution_count": 36,
     "metadata": {},
     "output_type": "execute_result"
    }
   ],
   "source": [
    "set(x3[\"term1_day\"])"
   ]
  },
  {
   "cell_type": "code",
   "execution_count": null,
   "metadata": {},
   "outputs": [],
   "source": [
    "# So term 1 day is 60"
   ]
  },
  {
   "cell_type": "code",
   "execution_count": 37,
   "metadata": {},
   "outputs": [
    {
     "data": {
      "text/plain": [
       "<matplotlib.collections.PathCollection at 0x1c6cbcc5e48>"
      ]
     },
     "execution_count": 37,
     "metadata": {},
     "output_type": "execute_result"
    },
    {
     "data": {
      "image/png": "[encoded data removed]",
      "text/plain": [
       "<Figure size 432x288 with 1 Axes>"
      ]
     },
     "metadata": {},
     "output_type": "display_data"
    }
   ],
   "source": [
    "x4 = df_agg[np.logical_and(df_agg[\"term1_day\"]==60,\n",
    "                           df_agg[\"term3_day\"]==349)]\n",
    "plt.scatter(x4[\"term2_day\"], x4[\"pfpr2_10\"])"
   ]
  },
  {
   "cell_type": "code",
   "execution_count": 38,
   "metadata": {},
   "outputs": [
    {
     "data": {
      "text/plain": [
       "{121.0,\n",
       " 131.0,\n",
       " 141.0,\n",
       " 151.0,\n",
       " 161.0,\n",
       " 171.0,\n",
       " 181.0,\n",
       " 182.0,\n",
       " 244.0,\n",
       " 254.0,\n",
       " 264.0,\n",
       " 274.0,\n",
       " 284.0,\n",
       " 288.0}"
      ]
     },
     "execution_count": 38,
     "metadata": {},
     "output_type": "execute_result"
    }
   ],
   "source": [
    "set(x4[\"term2_day\"])"
   ]
  },
  {
   "cell_type": "markdown",
   "metadata": {},
   "source": [
    "Best:\n",
    "- term1_day = 60\n",
    "- term2_day = 264\n",
    "- term3_day = 349"
   ]
  },
  {
   "cell_type": "code",
   "execution_count": null,
   "metadata": {},
   "outputs": [],
   "source": []
  },
  {
   "cell_type": "code",
   "execution_count": 44,
   "metadata": {},
   "outputs": [
    {
     "name": "stderr",
     "output_type": "stream",
     "text": [
      "c:\\users\\jsuresh\\venv\\default_venv\\lib\\site-packages\\seaborn\\_decorators.py:43: FutureWarning: Pass the following variable as a keyword arg: x. From version 0.12, the only valid positional argument will be `data`, and passing other arguments without an explicit keyword will result in an error or misinterpretation.\n",
      "  FutureWarning\n"
     ]
    },
    {
     "data": {
      "text/plain": [
       "<matplotlib.lines.Line2D at 0x1c6ce1dafd0>"
      ]
     },
     "execution_count": 44,
     "metadata": {},
     "output_type": "execute_result"
    },
    {
     "data": {
      "image/png": "[encoded data removed]",
      "text/plain": [
       "<Figure size 432x288 with 1 Axes>"
      ]
     },
     "metadata": {},
     "output_type": "display_data"
    }
   ],
   "source": [
    "# sns.boxplot(df[\"pfpr2_10\"])\n",
    "sns.boxplot(df_agg[\"pfpr2_10\"])\n",
    "plt.axvline(0.378861)"
   ]
  },
  {
   "cell_type": "code",
   "execution_count": 42,
   "metadata": {},
   "outputs": [
    {
     "data": {
      "text/html": [
       "<div>\n",
       "<style scoped>\n",
       "    .dataframe tbody tr th:only-of-type {\n",
       "        vertical-align: middle;\n",
       "    }\n",
       "\n",
       "    .dataframe tbody tr th {\n",
       "        vertical-align: top;\n",
       "    }\n",
       "\n",
       "    .dataframe thead th {\n",
       "        text-align: right;\n",
       "    }\n",
       "</style>\n",
       "<table border=\"1\" class=\"dataframe\">\n",
       "  <thead>\n",
       "    <tr style=\"text-align: right;\">\n",
       "      <th></th>\n",
       "      <th>scenario_number</th>\n",
       "      <th>pfpr2_10</th>\n",
       "      <th>Run_Number</th>\n",
       "      <th>term1_day</th>\n",
       "      <th>term2_day</th>\n",
       "      <th>term3_day</th>\n",
       "    </tr>\n",
       "  </thead>\n",
       "  <tbody>\n",
       "    <tr>\n",
       "      <th>643</th>\n",
       "      <td>643</td>\n",
       "      <td>0.377863</td>\n",
       "      <td>1.0</td>\n",
       "      <td>35.0</td>\n",
       "      <td>254.0</td>\n",
       "      <td>335.0</td>\n",
       "    </tr>\n",
       "    <tr>\n",
       "      <th>1420</th>\n",
       "      <td>1420</td>\n",
       "      <td>0.377970</td>\n",
       "      <td>0.5</td>\n",
       "      <td>90.0</td>\n",
       "      <td>274.0</td>\n",
       "      <td>345.0</td>\n",
       "    </tr>\n",
       "    <tr>\n",
       "      <th>1424</th>\n",
       "      <td>1424</td>\n",
       "      <td>0.378007</td>\n",
       "      <td>0.5</td>\n",
       "      <td>90.0</td>\n",
       "      <td>284.0</td>\n",
       "      <td>349.0</td>\n",
       "    </tr>\n",
       "    <tr>\n",
       "      <th>1314</th>\n",
       "      <td>1314</td>\n",
       "      <td>0.378469</td>\n",
       "      <td>0.5</td>\n",
       "      <td>80.0</td>\n",
       "      <td>254.0</td>\n",
       "      <td>349.0</td>\n",
       "    </tr>\n",
       "    <tr>\n",
       "      <th>1324</th>\n",
       "      <td>1324</td>\n",
       "      <td>0.378623</td>\n",
       "      <td>0.5</td>\n",
       "      <td>80.0</td>\n",
       "      <td>284.0</td>\n",
       "      <td>335.0</td>\n",
       "    </tr>\n",
       "    <tr>\n",
       "      <th>1311</th>\n",
       "      <td>1311</td>\n",
       "      <td>0.378626</td>\n",
       "      <td>0.5</td>\n",
       "      <td>80.0</td>\n",
       "      <td>254.0</td>\n",
       "      <td>325.0</td>\n",
       "    </tr>\n",
       "    <tr>\n",
       "      <th>948</th>\n",
       "      <td>948</td>\n",
       "      <td>0.378689</td>\n",
       "      <td>1.0</td>\n",
       "      <td>51.0</td>\n",
       "      <td>254.0</td>\n",
       "      <td>349.0</td>\n",
       "    </tr>\n",
       "    <tr>\n",
       "      <th>1086</th>\n",
       "      <td>1086</td>\n",
       "      <td>0.378703</td>\n",
       "      <td>1.0</td>\n",
       "      <td>60.0</td>\n",
       "      <td>284.0</td>\n",
       "      <td>345.0</td>\n",
       "    </tr>\n",
       "    <tr>\n",
       "      <th>640</th>\n",
       "      <td>640</td>\n",
       "      <td>0.378710</td>\n",
       "      <td>1.0</td>\n",
       "      <td>35.0</td>\n",
       "      <td>254.0</td>\n",
       "      <td>305.0</td>\n",
       "    </tr>\n",
       "    <tr>\n",
       "      <th>1080</th>\n",
       "      <td>1080</td>\n",
       "      <td>0.378861</td>\n",
       "      <td>1.0</td>\n",
       "      <td>60.0</td>\n",
       "      <td>264.0</td>\n",
       "      <td>349.0</td>\n",
       "    </tr>\n",
       "    <tr>\n",
       "      <th>1501</th>\n",
       "      <td>1501</td>\n",
       "      <td>0.378877</td>\n",
       "      <td>0.5</td>\n",
       "      <td>100.0</td>\n",
       "      <td>264.0</td>\n",
       "      <td>335.0</td>\n",
       "    </tr>\n",
       "    <tr>\n",
       "      <th>1795</th>\n",
       "      <td>1795</td>\n",
       "      <td>0.379038</td>\n",
       "      <td>0.5</td>\n",
       "      <td>171.0</td>\n",
       "      <td>274.0</td>\n",
       "      <td>335.0</td>\n",
       "    </tr>\n",
       "    <tr>\n",
       "      <th>1506</th>\n",
       "      <td>1506</td>\n",
       "      <td>0.379105</td>\n",
       "      <td>0.5</td>\n",
       "      <td>100.0</td>\n",
       "      <td>274.0</td>\n",
       "      <td>345.0</td>\n",
       "    </tr>\n",
       "    <tr>\n",
       "      <th>1070</th>\n",
       "      <td>1070</td>\n",
       "      <td>0.379693</td>\n",
       "      <td>1.0</td>\n",
       "      <td>60.0</td>\n",
       "      <td>254.0</td>\n",
       "      <td>305.0</td>\n",
       "    </tr>\n",
       "    <tr>\n",
       "      <th>641</th>\n",
       "      <td>641</td>\n",
       "      <td>0.379704</td>\n",
       "      <td>1.0</td>\n",
       "      <td>35.0</td>\n",
       "      <td>254.0</td>\n",
       "      <td>315.0</td>\n",
       "    </tr>\n",
       "    <tr>\n",
       "      <th>816</th>\n",
       "      <td>816</td>\n",
       "      <td>0.379768</td>\n",
       "      <td>1.0</td>\n",
       "      <td>45.0</td>\n",
       "      <td>284.0</td>\n",
       "      <td>345.0</td>\n",
       "    </tr>\n",
       "    <tr>\n",
       "      <th>1507</th>\n",
       "      <td>1507</td>\n",
       "      <td>0.379999</td>\n",
       "      <td>0.5</td>\n",
       "      <td>100.0</td>\n",
       "      <td>274.0</td>\n",
       "      <td>349.0</td>\n",
       "    </tr>\n",
       "    <tr>\n",
       "      <th>1079</th>\n",
       "      <td>1079</td>\n",
       "      <td>0.380167</td>\n",
       "      <td>1.0</td>\n",
       "      <td>60.0</td>\n",
       "      <td>264.0</td>\n",
       "      <td>345.0</td>\n",
       "    </tr>\n",
       "    <tr>\n",
       "      <th>1572</th>\n",
       "      <td>1572</td>\n",
       "      <td>0.380265</td>\n",
       "      <td>0.5</td>\n",
       "      <td>105.0</td>\n",
       "      <td>254.0</td>\n",
       "      <td>349.0</td>\n",
       "    </tr>\n",
       "    <tr>\n",
       "      <th>1504</th>\n",
       "      <td>1504</td>\n",
       "      <td>0.380269</td>\n",
       "      <td>0.5</td>\n",
       "      <td>100.0</td>\n",
       "      <td>274.0</td>\n",
       "      <td>325.0</td>\n",
       "    </tr>\n",
       "  </tbody>\n",
       "</table>\n",
       "</div>"
      ],
      "text/plain": [
       "      scenario_number  pfpr2_10  Run_Number  term1_day  term2_day  term3_day\n",
       "643               643  0.377863         1.0       35.0      254.0      335.0\n",
       "1420             1420  0.377970         0.5       90.0      274.0      345.0\n",
       "1424             1424  0.378007         0.5       90.0      284.0      349.0\n",
       "1314             1314  0.378469         0.5       80.0      254.0      349.0\n",
       "1324             1324  0.378623         0.5       80.0      284.0      335.0\n",
       "1311             1311  0.378626         0.5       80.0      254.0      325.0\n",
       "948               948  0.378689         1.0       51.0      254.0      349.0\n",
       "1086             1086  0.378703         1.0       60.0      284.0      345.0\n",
       "640               640  0.378710         1.0       35.0      254.0      305.0\n",
       "1080             1080  0.378861         1.0       60.0      264.0      349.0\n",
       "1501             1501  0.378877         0.5      100.0      264.0      335.0\n",
       "1795             1795  0.379038         0.5      171.0      274.0      335.0\n",
       "1506             1506  0.379105         0.5      100.0      274.0      345.0\n",
       "1070             1070  0.379693         1.0       60.0      254.0      305.0\n",
       "641               641  0.379704         1.0       35.0      254.0      315.0\n",
       "816               816  0.379768         1.0       45.0      284.0      345.0\n",
       "1507             1507  0.379999         0.5      100.0      274.0      349.0\n",
       "1079             1079  0.380167         1.0       60.0      264.0      345.0\n",
       "1572             1572  0.380265         0.5      105.0      254.0      349.0\n",
       "1504             1504  0.380269         0.5      100.0      274.0      325.0"
      ]
     },
     "execution_count": 42,
     "metadata": {},
     "output_type": "execute_result"
    }
   ],
   "source": [
    "df_agg.sort_values(by=\"pfpr2_10\").head(20)"
   ]
  },
  {
   "cell_type": "code",
   "execution_count": 35,
   "metadata": {},
   "outputs": [],
   "source": [
    "from scipy.stats import mode"
   ]
  },
  {
   "cell_type": "code",
   "execution_count": 37,
   "metadata": {},
   "outputs": [
    {
     "name": "stdout",
     "output_type": "stream",
     "text": [
      "ModeResult(mode=array([90], dtype=int64), count=array([22]))\n",
      "ModeResult(mode=array([181], dtype=int64), count=array([28]))\n"
     ]
    },
    {
     "data": {
      "text/plain": [
       "(array([ 6.,  8.,  0., 10.,  0., 14.,  0., 20.,  0., 42.]),\n",
       " array([131. , 136.1, 141.2, 146.3, 151.4, 156.5, 161.6, 166.7, 171.8,\n",
       "        176.9, 182. ]),\n",
       " <BarContainer object of 10 artists>)"
      ]
     },
     "execution_count": 37,
     "metadata": {},
     "output_type": "execute_result"
    },
    {
     "data": {
      "image/png": "[encoded data removed]",
      "text/plain": [
       "<Figure size 432x288 with 1 Axes>"
      ]
     },
     "metadata": {},
     "output_type": "display_data"
    }
   ],
   "source": [
    "print(mode(y[\"term2_day\"]))\n",
    "print(mode(y[\"term3_day\"]))\n",
    "plt.hist(y[\"term2_day\"])\n",
    "plt.hist(y[\"term3_day\"])"
   ]
  },
  {
   "cell_type": "code",
   "execution_count": 38,
   "metadata": {},
   "outputs": [
    {
     "data": {
      "text/html": [
       "<div>\n",
       "<style scoped>\n",
       "    .dataframe tbody tr th:only-of-type {\n",
       "        vertical-align: middle;\n",
       "    }\n",
       "\n",
       "    .dataframe tbody tr th {\n",
       "        vertical-align: top;\n",
       "    }\n",
       "\n",
       "    .dataframe thead th {\n",
       "        text-align: right;\n",
       "    }\n",
       "</style>\n",
       "<table border=\"1\" class=\"dataframe\">\n",
       "  <thead>\n",
       "    <tr style=\"text-align: right;\">\n",
       "      <th></th>\n",
       "      <th>pfpr2_10</th>\n",
       "      <th>sim_id</th>\n",
       "      <th>exe_collection_id</th>\n",
       "      <th>input_collection_id</th>\n",
       "      <th>Run_Number</th>\n",
       "      <th>scenario_number</th>\n",
       "      <th>term1_day</th>\n",
       "      <th>term2_day</th>\n",
       "      <th>term3_day</th>\n",
       "    </tr>\n",
       "  </thead>\n",
       "  <tbody>\n",
       "    <tr>\n",
       "      <th>360</th>\n",
       "      <td>0.257759</td>\n",
       "      <td>fbccfe17-2eb4-eb11-a2e3-c4346bcb7275</td>\n",
       "      <td>cb8d1f2b-44c8-ea11-a2c6-c4346bcb1557</td>\n",
       "      <td>d79eb282-6ca8-eb11-a2e3-c4346bcb7275</td>\n",
       "      <td>0</td>\n",
       "      <td>41</td>\n",
       "      <td>5</td>\n",
       "      <td>80</td>\n",
       "      <td>181</td>\n",
       "    </tr>\n",
       "    <tr>\n",
       "      <th>40</th>\n",
       "      <td>0.257759</td>\n",
       "      <td>02cdfe17-2eb4-eb11-a2e3-c4346bcb7275</td>\n",
       "      <td>cb8d1f2b-44c8-ea11-a2c6-c4346bcb1557</td>\n",
       "      <td>d79eb282-6ca8-eb11-a2e3-c4346bcb7275</td>\n",
       "      <td>0</td>\n",
       "      <td>48</td>\n",
       "      <td>5</td>\n",
       "      <td>80</td>\n",
       "      <td>181</td>\n",
       "    </tr>\n",
       "    <tr>\n",
       "      <th>271</th>\n",
       "      <td>0.260613</td>\n",
       "      <td>e7e0a56b-2eb4-eb11-a2e3-c4346bcb7275</td>\n",
       "      <td>cb8d1f2b-44c8-ea11-a2c6-c4346bcb1557</td>\n",
       "      <td>d79eb282-6ca8-eb11-a2e3-c4346bcb7275</td>\n",
       "      <td>2</td>\n",
       "      <td>25</td>\n",
       "      <td>5</td>\n",
       "      <td>70</td>\n",
       "      <td>182</td>\n",
       "    </tr>\n",
       "    <tr>\n",
       "      <th>106</th>\n",
       "      <td>0.260737</td>\n",
       "      <td>11cdfe17-2eb4-eb11-a2e3-c4346bcb7275</td>\n",
       "      <td>cb8d1f2b-44c8-ea11-a2c6-c4346bcb1557</td>\n",
       "      <td>d79eb282-6ca8-eb11-a2e3-c4346bcb7275</td>\n",
       "      <td>0</td>\n",
       "      <td>23</td>\n",
       "      <td>5</td>\n",
       "      <td>70</td>\n",
       "      <td>171</td>\n",
       "    </tr>\n",
       "    <tr>\n",
       "      <th>382</th>\n",
       "      <td>0.260737</td>\n",
       "      <td>19cdfe17-2eb4-eb11-a2e3-c4346bcb7275</td>\n",
       "      <td>cb8d1f2b-44c8-ea11-a2c6-c4346bcb1557</td>\n",
       "      <td>d79eb282-6ca8-eb11-a2e3-c4346bcb7275</td>\n",
       "      <td>0</td>\n",
       "      <td>31</td>\n",
       "      <td>5</td>\n",
       "      <td>70</td>\n",
       "      <td>171</td>\n",
       "    </tr>\n",
       "    <tr>\n",
       "      <th>...</th>\n",
       "      <td>...</td>\n",
       "      <td>...</td>\n",
       "      <td>...</td>\n",
       "      <td>...</td>\n",
       "      <td>...</td>\n",
       "      <td>...</td>\n",
       "      <td>...</td>\n",
       "      <td>...</td>\n",
       "      <td>...</td>\n",
       "    </tr>\n",
       "    <tr>\n",
       "      <th>242</th>\n",
       "      <td>0.270000</td>\n",
       "      <td>dd5dd447-2eb4-eb11-a2e3-c4346bcb7275</td>\n",
       "      <td>cb8d1f2b-44c8-ea11-a2c6-c4346bcb1557</td>\n",
       "      <td>d79eb282-6ca8-eb11-a2e3-c4346bcb7275</td>\n",
       "      <td>1</td>\n",
       "      <td>62</td>\n",
       "      <td>5</td>\n",
       "      <td>90</td>\n",
       "      <td>181</td>\n",
       "    </tr>\n",
       "    <tr>\n",
       "      <th>79</th>\n",
       "      <td>0.270000</td>\n",
       "      <td>cd5dd447-2eb4-eb11-a2e3-c4346bcb7275</td>\n",
       "      <td>cb8d1f2b-44c8-ea11-a2c6-c4346bcb1557</td>\n",
       "      <td>d79eb282-6ca8-eb11-a2e3-c4346bcb7275</td>\n",
       "      <td>1</td>\n",
       "      <td>56</td>\n",
       "      <td>5</td>\n",
       "      <td>90</td>\n",
       "      <td>181</td>\n",
       "    </tr>\n",
       "    <tr>\n",
       "      <th>311</th>\n",
       "      <td>0.270090</td>\n",
       "      <td>e85dd447-2eb4-eb11-a2e3-c4346bcb7275</td>\n",
       "      <td>cb8d1f2b-44c8-ea11-a2c6-c4346bcb1557</td>\n",
       "      <td>d79eb282-6ca8-eb11-a2e3-c4346bcb7275</td>\n",
       "      <td>1</td>\n",
       "      <td>70</td>\n",
       "      <td>5</td>\n",
       "      <td>100</td>\n",
       "      <td>182</td>\n",
       "    </tr>\n",
       "    <tr>\n",
       "      <th>175</th>\n",
       "      <td>0.270176</td>\n",
       "      <td>06cdfe17-2eb4-eb11-a2e3-c4346bcb7275</td>\n",
       "      <td>cb8d1f2b-44c8-ea11-a2c6-c4346bcb1557</td>\n",
       "      <td>d79eb282-6ca8-eb11-a2e3-c4346bcb7275</td>\n",
       "      <td>0</td>\n",
       "      <td>52</td>\n",
       "      <td>5</td>\n",
       "      <td>90</td>\n",
       "      <td>141</td>\n",
       "    </tr>\n",
       "    <tr>\n",
       "      <th>124</th>\n",
       "      <td>0.270176</td>\n",
       "      <td>0ccdfe17-2eb4-eb11-a2e3-c4346bcb7275</td>\n",
       "      <td>cb8d1f2b-44c8-ea11-a2c6-c4346bcb1557</td>\n",
       "      <td>d79eb282-6ca8-eb11-a2e3-c4346bcb7275</td>\n",
       "      <td>0</td>\n",
       "      <td>58</td>\n",
       "      <td>5</td>\n",
       "      <td>90</td>\n",
       "      <td>141</td>\n",
       "    </tr>\n",
       "  </tbody>\n",
       "</table>\n",
       "<p>100 rows × 9 columns</p>\n",
       "</div>"
      ],
      "text/plain": [
       "     pfpr2_10                                sim_id  \\\n",
       "360  0.257759  fbccfe17-2eb4-eb11-a2e3-c4346bcb7275   \n",
       "40   0.257759  02cdfe17-2eb4-eb11-a2e3-c4346bcb7275   \n",
       "271  0.260613  e7e0a56b-2eb4-eb11-a2e3-c4346bcb7275   \n",
       "106  0.260737  11cdfe17-2eb4-eb11-a2e3-c4346bcb7275   \n",
       "382  0.260737  19cdfe17-2eb4-eb11-a2e3-c4346bcb7275   \n",
       "..        ...                                   ...   \n",
       "242  0.270000  dd5dd447-2eb4-eb11-a2e3-c4346bcb7275   \n",
       "79   0.270000  cd5dd447-2eb4-eb11-a2e3-c4346bcb7275   \n",
       "311  0.270090  e85dd447-2eb4-eb11-a2e3-c4346bcb7275   \n",
       "175  0.270176  06cdfe17-2eb4-eb11-a2e3-c4346bcb7275   \n",
       "124  0.270176  0ccdfe17-2eb4-eb11-a2e3-c4346bcb7275   \n",
       "\n",
       "                        exe_collection_id  \\\n",
       "360  cb8d1f2b-44c8-ea11-a2c6-c4346bcb1557   \n",
       "40   cb8d1f2b-44c8-ea11-a2c6-c4346bcb1557   \n",
       "271  cb8d1f2b-44c8-ea11-a2c6-c4346bcb1557   \n",
       "106  cb8d1f2b-44c8-ea11-a2c6-c4346bcb1557   \n",
       "382  cb8d1f2b-44c8-ea11-a2c6-c4346bcb1557   \n",
       "..                                    ...   \n",
       "242  cb8d1f2b-44c8-ea11-a2c6-c4346bcb1557   \n",
       "79   cb8d1f2b-44c8-ea11-a2c6-c4346bcb1557   \n",
       "311  cb8d1f2b-44c8-ea11-a2c6-c4346bcb1557   \n",
       "175  cb8d1f2b-44c8-ea11-a2c6-c4346bcb1557   \n",
       "124  cb8d1f2b-44c8-ea11-a2c6-c4346bcb1557   \n",
       "\n",
       "                      input_collection_id  Run_Number  scenario_number  \\\n",
       "360  d79eb282-6ca8-eb11-a2e3-c4346bcb7275           0               41   \n",
       "40   d79eb282-6ca8-eb11-a2e3-c4346bcb7275           0               48   \n",
       "271  d79eb282-6ca8-eb11-a2e3-c4346bcb7275           2               25   \n",
       "106  d79eb282-6ca8-eb11-a2e3-c4346bcb7275           0               23   \n",
       "382  d79eb282-6ca8-eb11-a2e3-c4346bcb7275           0               31   \n",
       "..                                    ...         ...              ...   \n",
       "242  d79eb282-6ca8-eb11-a2e3-c4346bcb7275           1               62   \n",
       "79   d79eb282-6ca8-eb11-a2e3-c4346bcb7275           1               56   \n",
       "311  d79eb282-6ca8-eb11-a2e3-c4346bcb7275           1               70   \n",
       "175  d79eb282-6ca8-eb11-a2e3-c4346bcb7275           0               52   \n",
       "124  d79eb282-6ca8-eb11-a2e3-c4346bcb7275           0               58   \n",
       "\n",
       "     term1_day  term2_day  term3_day  \n",
       "360          5         80        181  \n",
       "40           5         80        181  \n",
       "271          5         70        182  \n",
       "106          5         70        171  \n",
       "382          5         70        171  \n",
       "..         ...        ...        ...  \n",
       "242          5         90        181  \n",
       "79           5         90        181  \n",
       "311          5        100        182  \n",
       "175          5         90        141  \n",
       "124          5         90        141  \n",
       "\n",
       "[100 rows x 9 columns]"
      ]
     },
     "execution_count": 38,
     "metadata": {},
     "output_type": "execute_result"
    }
   ],
   "source": [
    "y"
   ]
  },
  {
   "cell_type": "code",
   "execution_count": 45,
   "metadata": {},
   "outputs": [],
   "source": [
    "z = df[np.logical_and(df[\"term1_day\"]==5, df[\"term3_day\"]==181)].reset_index(drop=True)  #[\"pfpr2_10\"]"
   ]
  },
  {
   "cell_type": "code",
   "execution_count": 44,
   "metadata": {},
   "outputs": [
    {
     "data": {
      "text/plain": [
       "(array([ 1.25663344,  9.14549895, 20.50174192, 26.55219924, 26.04023747,\n",
       "        16.2664218 ,  7.72596858,  2.76924777,  0.74467167,  0.27925188]),\n",
       " array([0.25775908, 0.26674527, 0.27573146, 0.28471765, 0.29370384,\n",
       "        0.30269003, 0.31167622, 0.32066241, 0.3296486 , 0.33863478,\n",
       "        0.34762097]),\n",
       " [<matplotlib.patches.Polygon at 0x130ff52d5f8>])"
      ]
     },
     "execution_count": 44,
     "metadata": {},
     "output_type": "execute_result"
    },
    {
     "data": {
      "image/png": "[encoded data removed]",
      "text/plain": [
       "<Figure size 432x288 with 1 Axes>"
      ]
     },
     "metadata": {},
     "output_type": "display_data"
    }
   ],
   "source": [
    "plt.hist(z[\"pfpr2_10\"])\n",
    "plt.hist(df[\"pfpr2_10\"],histtype='step', density=True)"
   ]
  },
  {
   "cell_type": "code",
   "execution_count": 48,
   "metadata": {},
   "outputs": [
    {
     "data": {
      "text/plain": [
       "<matplotlib.collections.PathCollection at 0x130812d8828>"
      ]
     },
     "execution_count": 48,
     "metadata": {},
     "output_type": "execute_result"
    },
    {
     "data": {
      "image/png": "[encoded data removed]",
      "text/plain": [
       "<Figure size 432x288 with 1 Axes>"
      ]
     },
     "metadata": {},
     "output_type": "display_data"
    }
   ],
   "source": [
    "plt.scatter(z[\"term2_day\"], z[\"pfpr2_10\"])"
   ]
  },
  {
   "cell_type": "code",
   "execution_count": 50,
   "metadata": {},
   "outputs": [],
   "source": [
    "s = z[z[\"term2_day\"]==100]"
   ]
  },
  {
   "cell_type": "code",
   "execution_count": 52,
   "metadata": {},
   "outputs": [],
   "source": [
    "term1_day = 5 # Jan 5\n",
    "term2_day = 100 # April 10\n",
    "term3_day = 181 # June"
   ]
  },
  {
   "cell_type": "markdown",
   "metadata": {},
   "source": [
    "# Redoing"
   ]
  },
  {
   "cell_type": "code",
   "execution_count": 88,
   "metadata": {},
   "outputs": [],
   "source": [
    "x = df.sort_values(by=\"pfpr2_10\").head(100)"
   ]
  },
  {
   "cell_type": "code",
   "execution_count": 89,
   "metadata": {},
   "outputs": [
    {
     "data": {
      "text/html": [
       "<div>\n",
       "<style scoped>\n",
       "    .dataframe tbody tr th:only-of-type {\n",
       "        vertical-align: middle;\n",
       "    }\n",
       "\n",
       "    .dataframe tbody tr th {\n",
       "        vertical-align: top;\n",
       "    }\n",
       "\n",
       "    .dataframe thead th {\n",
       "        text-align: right;\n",
       "    }\n",
       "</style>\n",
       "<table border=\"1\" class=\"dataframe\">\n",
       "  <thead>\n",
       "    <tr style=\"text-align: right;\">\n",
       "      <th></th>\n",
       "      <th>pfpr2_10</th>\n",
       "      <th>sim_id</th>\n",
       "      <th>exe_collection_id</th>\n",
       "      <th>input_collection_id</th>\n",
       "      <th>Run_Number</th>\n",
       "      <th>scenario_number</th>\n",
       "      <th>term1_day</th>\n",
       "      <th>term2_day</th>\n",
       "      <th>term3_day</th>\n",
       "    </tr>\n",
       "  </thead>\n",
       "  <tbody>\n",
       "    <tr>\n",
       "      <th>3621</th>\n",
       "      <td>0.371285</td>\n",
       "      <td>a469fa74-ccb4-eb11-a2e3-c4346bcb7275</td>\n",
       "      <td>cb8d1f2b-44c8-ea11-a2c6-c4346bcb1557</td>\n",
       "      <td>d79eb282-6ca8-eb11-a2e3-c4346bcb7275</td>\n",
       "      <td>0</td>\n",
       "      <td>1086</td>\n",
       "      <td>60</td>\n",
       "      <td>284</td>\n",
       "      <td>345</td>\n",
       "    </tr>\n",
       "    <tr>\n",
       "      <th>95</th>\n",
       "      <td>0.372562</td>\n",
       "      <td>1534ccbd-ccb4-eb11-a2e3-c4346bcb7275</td>\n",
       "      <td>cb8d1f2b-44c8-ea11-a2c6-c4346bcb1557</td>\n",
       "      <td>d79eb282-6ca8-eb11-a2e3-c4346bcb7275</td>\n",
       "      <td>1</td>\n",
       "      <td>640</td>\n",
       "      <td>35</td>\n",
       "      <td>254</td>\n",
       "      <td>305</td>\n",
       "    </tr>\n",
       "    <tr>\n",
       "      <th>1441</th>\n",
       "      <td>0.372866</td>\n",
       "      <td>9769fa74-ccb4-eb11-a2e3-c4346bcb7275</td>\n",
       "      <td>cb8d1f2b-44c8-ea11-a2c6-c4346bcb1557</td>\n",
       "      <td>d79eb282-6ca8-eb11-a2e3-c4346bcb7275</td>\n",
       "      <td>0</td>\n",
       "      <td>1071</td>\n",
       "      <td>60</td>\n",
       "      <td>254</td>\n",
       "      <td>315</td>\n",
       "    </tr>\n",
       "    <tr>\n",
       "      <th>2343</th>\n",
       "      <td>0.373271</td>\n",
       "      <td>ef24d5c3-ccb4-eb11-a2e3-c4346bcb7275</td>\n",
       "      <td>cb8d1f2b-44c8-ea11-a2c6-c4346bcb1557</td>\n",
       "      <td>d79eb282-6ca8-eb11-a2e3-c4346bcb7275</td>\n",
       "      <td>1</td>\n",
       "      <td>816</td>\n",
       "      <td>45</td>\n",
       "      <td>284</td>\n",
       "      <td>345</td>\n",
       "    </tr>\n",
       "    <tr>\n",
       "      <th>4547</th>\n",
       "      <td>0.373512</td>\n",
       "      <td>f168fa74-ccb4-eb11-a2e3-c4346bcb7275</td>\n",
       "      <td>cb8d1f2b-44c8-ea11-a2c6-c4346bcb1557</td>\n",
       "      <td>d79eb282-6ca8-eb11-a2e3-c4346bcb7275</td>\n",
       "      <td>0</td>\n",
       "      <td>898</td>\n",
       "      <td>51</td>\n",
       "      <td>161</td>\n",
       "      <td>335</td>\n",
       "    </tr>\n",
       "    <tr>\n",
       "      <th>...</th>\n",
       "      <td>...</td>\n",
       "      <td>...</td>\n",
       "      <td>...</td>\n",
       "      <td>...</td>\n",
       "      <td>...</td>\n",
       "      <td>...</td>\n",
       "      <td>...</td>\n",
       "      <td>...</td>\n",
       "      <td>...</td>\n",
       "    </tr>\n",
       "    <tr>\n",
       "      <th>1282</th>\n",
       "      <td>0.378361</td>\n",
       "      <td>4e5d1156-ccb4-eb11-a2e3-c4346bcb7275</td>\n",
       "      <td>cb8d1f2b-44c8-ea11-a2c6-c4346bcb1557</td>\n",
       "      <td>d79eb282-6ca8-eb11-a2e3-c4346bcb7275</td>\n",
       "      <td>0</td>\n",
       "      <td>362</td>\n",
       "      <td>25</td>\n",
       "      <td>100</td>\n",
       "      <td>274</td>\n",
       "    </tr>\n",
       "    <tr>\n",
       "      <th>1337</th>\n",
       "      <td>0.378400</td>\n",
       "      <td>3d9d095c-ccb4-eb11-a2e3-c4346bcb7275</td>\n",
       "      <td>cb8d1f2b-44c8-ea11-a2c6-c4346bcb1557</td>\n",
       "      <td>d79eb282-6ca8-eb11-a2e3-c4346bcb7275</td>\n",
       "      <td>0</td>\n",
       "      <td>511</td>\n",
       "      <td>35</td>\n",
       "      <td>100</td>\n",
       "      <td>305</td>\n",
       "    </tr>\n",
       "    <tr>\n",
       "      <th>554</th>\n",
       "      <td>0.378400</td>\n",
       "      <td>ec28026f-ccb4-eb11-a2e3-c4346bcb7275</td>\n",
       "      <td>cb8d1f2b-44c8-ea11-a2c6-c4346bcb1557</td>\n",
       "      <td>d79eb282-6ca8-eb11-a2e3-c4346bcb7275</td>\n",
       "      <td>0</td>\n",
       "      <td>807</td>\n",
       "      <td>45</td>\n",
       "      <td>264</td>\n",
       "      <td>325</td>\n",
       "    </tr>\n",
       "    <tr>\n",
       "      <th>399</th>\n",
       "      <td>0.378492</td>\n",
       "      <td>92af849d-ccb4-eb11-a2e3-c4346bcb7275</td>\n",
       "      <td>cb8d1f2b-44c8-ea11-a2c6-c4346bcb1557</td>\n",
       "      <td>d79eb282-6ca8-eb11-a2e3-c4346bcb7275</td>\n",
       "      <td>0</td>\n",
       "      <td>1761</td>\n",
       "      <td>161</td>\n",
       "      <td>254</td>\n",
       "      <td>345</td>\n",
       "    </tr>\n",
       "    <tr>\n",
       "      <th>1702</th>\n",
       "      <td>0.378504</td>\n",
       "      <td>f368fa74-ccb4-eb11-a2e3-c4346bcb7275</td>\n",
       "      <td>cb8d1f2b-44c8-ea11-a2c6-c4346bcb1557</td>\n",
       "      <td>d79eb282-6ca8-eb11-a2e3-c4346bcb7275</td>\n",
       "      <td>0</td>\n",
       "      <td>899</td>\n",
       "      <td>51</td>\n",
       "      <td>161</td>\n",
       "      <td>345</td>\n",
       "    </tr>\n",
       "  </tbody>\n",
       "</table>\n",
       "<p>100 rows × 9 columns</p>\n",
       "</div>"
      ],
      "text/plain": [
       "      pfpr2_10                                sim_id  \\\n",
       "3621  0.371285  a469fa74-ccb4-eb11-a2e3-c4346bcb7275   \n",
       "95    0.372562  1534ccbd-ccb4-eb11-a2e3-c4346bcb7275   \n",
       "1441  0.372866  9769fa74-ccb4-eb11-a2e3-c4346bcb7275   \n",
       "2343  0.373271  ef24d5c3-ccb4-eb11-a2e3-c4346bcb7275   \n",
       "4547  0.373512  f168fa74-ccb4-eb11-a2e3-c4346bcb7275   \n",
       "...        ...                                   ...   \n",
       "1282  0.378361  4e5d1156-ccb4-eb11-a2e3-c4346bcb7275   \n",
       "1337  0.378400  3d9d095c-ccb4-eb11-a2e3-c4346bcb7275   \n",
       "554   0.378400  ec28026f-ccb4-eb11-a2e3-c4346bcb7275   \n",
       "399   0.378492  92af849d-ccb4-eb11-a2e3-c4346bcb7275   \n",
       "1702  0.378504  f368fa74-ccb4-eb11-a2e3-c4346bcb7275   \n",
       "\n",
       "                         exe_collection_id  \\\n",
       "3621  cb8d1f2b-44c8-ea11-a2c6-c4346bcb1557   \n",
       "95    cb8d1f2b-44c8-ea11-a2c6-c4346bcb1557   \n",
       "1441  cb8d1f2b-44c8-ea11-a2c6-c4346bcb1557   \n",
       "2343  cb8d1f2b-44c8-ea11-a2c6-c4346bcb1557   \n",
       "4547  cb8d1f2b-44c8-ea11-a2c6-c4346bcb1557   \n",
       "...                                    ...   \n",
       "1282  cb8d1f2b-44c8-ea11-a2c6-c4346bcb1557   \n",
       "1337  cb8d1f2b-44c8-ea11-a2c6-c4346bcb1557   \n",
       "554   cb8d1f2b-44c8-ea11-a2c6-c4346bcb1557   \n",
       "399   cb8d1f2b-44c8-ea11-a2c6-c4346bcb1557   \n",
       "1702  cb8d1f2b-44c8-ea11-a2c6-c4346bcb1557   \n",
       "\n",
       "                       input_collection_id  Run_Number  scenario_number  \\\n",
       "3621  d79eb282-6ca8-eb11-a2e3-c4346bcb7275           0             1086   \n",
       "95    d79eb282-6ca8-eb11-a2e3-c4346bcb7275           1              640   \n",
       "1441  d79eb282-6ca8-eb11-a2e3-c4346bcb7275           0             1071   \n",
       "2343  d79eb282-6ca8-eb11-a2e3-c4346bcb7275           1              816   \n",
       "4547  d79eb282-6ca8-eb11-a2e3-c4346bcb7275           0              898   \n",
       "...                                    ...         ...              ...   \n",
       "1282  d79eb282-6ca8-eb11-a2e3-c4346bcb7275           0              362   \n",
       "1337  d79eb282-6ca8-eb11-a2e3-c4346bcb7275           0              511   \n",
       "554   d79eb282-6ca8-eb11-a2e3-c4346bcb7275           0              807   \n",
       "399   d79eb282-6ca8-eb11-a2e3-c4346bcb7275           0             1761   \n",
       "1702  d79eb282-6ca8-eb11-a2e3-c4346bcb7275           0              899   \n",
       "\n",
       "      term1_day  term2_day  term3_day  \n",
       "3621         60        284        345  \n",
       "95           35        254        305  \n",
       "1441         60        254        315  \n",
       "2343         45        284        345  \n",
       "4547         51        161        335  \n",
       "...         ...        ...        ...  \n",
       "1282         25        100        274  \n",
       "1337         35        100        305  \n",
       "554          45        264        325  \n",
       "399         161        254        345  \n",
       "1702         51        161        345  \n",
       "\n",
       "[100 rows x 9 columns]"
      ]
     },
     "execution_count": 89,
     "metadata": {},
     "output_type": "execute_result"
    }
   ],
   "source": [
    "x"
   ]
  },
  {
   "cell_type": "code",
   "execution_count": null,
   "metadata": {},
   "outputs": [],
   "source": []
  }
 ],
 "metadata": {
  "kernelspec": {
   "display_name": "Python 3",
   "language": "python",
   "name": "python3"
  },
  "language_info": {
   "codemirror_mode": {
    "name": "ipython",
    "version": 3
   },
   "file_extension": ".py",
   "mimetype": "text/x-python",
   "name": "python",
   "nbconvert_exporter": "python",
   "pygments_lexer": "ipython3",
   "version": "3.6.8"
  }
 },
 "nbformat": 4,
 "nbformat_minor": 4
}
