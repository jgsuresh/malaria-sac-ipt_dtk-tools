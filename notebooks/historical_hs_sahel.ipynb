{
 "cells": [
  {
   "cell_type": "code",
   "execution_count": 2,
   "metadata": {},
   "outputs": [],
   "source": [
    "import pandas as pd\n",
    "import numpy as np\n",
    "import matplotlib\n",
    "matplotlib.rcParams['pdf.fonttype'] = 42\n",
    "import matplotlib.pyplot as plt\n",
    "import seaborn as sns\n",
    "\n",
    "sns.set_context(\"talk\")\n",
    "sns.set_style(\"darkgrid\")"
   ]
  },
  {
   "cell_type": "markdown",
   "metadata": {},
   "source": [
    "### Make smoothed version of spline"
   ]
  },
  {
   "cell_type": "code",
   "execution_count": 3,
   "metadata": {},
   "outputs": [],
   "source": [
    "spline_df = pd.read_csv(\"ssa_historical_itn.csv\")"
   ]
  },
  {
   "cell_type": "code",
   "execution_count": 4,
   "metadata": {},
   "outputs": [],
   "source": [
    "def fit_lowess_spline(x, y, frac=0.67, return_error=False, percentile_top=80, percentile_bottom=20):\n",
    "    # From https://james-brennan.github.io/posts/lowess_conf/\n",
    "    from statsmodels.nonparametric.smoothers_lowess import lowess as sm_lowess\n",
    "\n",
    "    def smooth(x, y, xgrid, frac=0.67):\n",
    "        samples = np.random.choice(len(x), 50, replace=True)\n",
    "        y_s = y[samples]\n",
    "        x_s = x[samples]\n",
    "        y_sm = sm_lowess(y_s, x_s, frac=frac, it=5,\n",
    "                         return_sorted=False)\n",
    "        # regularly sample it onto the grid\n",
    "        y_grid = scipy.interpolate.interp1d(x_s, y_sm,\n",
    "                                            fill_value='extrapolate')(xgrid)\n",
    "        return y_grid\n",
    "\n",
    "    if not return_error:\n",
    "        sm_x, sm_y = sm_lowess(y, x, frac=frac, return_sorted=True).T\n",
    "        return sm_x, sm_y\n",
    "    elif return_error:\n",
    "        xgrid = np.linspace(x.min(), x.max())\n",
    "        K = 100\n",
    "        smooths = np.stack([smooth(x, y, xgrid, frac=frac) for k in range(K)]).T\n",
    "\n",
    "        mean = np.nanmean(smooths, axis=1)\n",
    "        #         median = np.nanmedian(smooths, axis=1)\n",
    "        q_top = np.nanpercentile(smooths, percentile_top, axis=1)\n",
    "        q_bot = np.nanpercentile(smooths, percentile_bottom, axis=1)\n",
    "\n",
    "        return xgrid, mean, q_bot, q_top\n"
   ]
  },
  {
   "cell_type": "code",
   "execution_count": 7,
   "metadata": {
    "scrolled": true
   },
   "outputs": [
    {
     "data": {
      "text/plain": [
       "[<matplotlib.lines.Line2D at 0x1fc30ef3860>]"
      ]
     },
     "execution_count": 7,
     "metadata": {},
     "output_type": "execute_result"
    },
    {
     "data": {
      "image/png": "[encoded data removed]",
      "text/plain": [
       "<Figure size 432x288 with 1 Axes>"
      ]
     },
     "metadata": {},
     "output_type": "display_data"
    }
   ],
   "source": [
    "x = spline_df[\"year\"]\n",
    "y = spline_df[\"cov_all\"]\n",
    "xs,ys = fit_lowess_spline(x,y,frac=0.3)\n",
    "\n",
    "plt.scatter(xs,ys)\n",
    "plt.plot(x,y)"
   ]
  },
  {
   "cell_type": "code",
   "execution_count": 8,
   "metadata": {},
   "outputs": [],
   "source": [
    "spline_df[\"cov_smoothed\"] = ys"
   ]
  },
  {
   "cell_type": "code",
   "execution_count": 9,
   "metadata": {},
   "outputs": [],
   "source": [
    "spline_df.to_csv(\"ssa_historical_itn.csv\", index=False)"
   ]
  },
  {
   "cell_type": "markdown",
   "metadata": {},
   "source": [
    "### Now apply smoothed spline to healthseeking.  \n",
    "\n",
    "Easiest is to assume same hs rate as ITN coverage.  This of course doesn't make much sense in terms of units, but the numbers seem to work out about the same, if we want to end on ~65% HS"
   ]
  },
  {
   "cell_type": "code",
   "execution_count": 14,
   "metadata": {},
   "outputs": [],
   "source": [
    "hs_df = spline_df.copy(deep=True).rename(columns={\"cov_smoothed\": \"cov_newclin_youth\"})[[\"year\", \"cov_newclin_youth\"]]"
   ]
  },
  {
   "cell_type": "code",
   "execution_count": 15,
   "metadata": {},
   "outputs": [
    {
     "data": {
      "text/html": [
       "<div>\n",
       "<style scoped>\n",
       "    .dataframe tbody tr th:only-of-type {\n",
       "        vertical-align: middle;\n",
       "    }\n",
       "\n",
       "    .dataframe tbody tr th {\n",
       "        vertical-align: top;\n",
       "    }\n",
       "\n",
       "    .dataframe thead th {\n",
       "        text-align: right;\n",
       "    }\n",
       "</style>\n",
       "<table border=\"1\" class=\"dataframe\">\n",
       "  <thead>\n",
       "    <tr style=\"text-align: right;\">\n",
       "      <th></th>\n",
       "      <th>year</th>\n",
       "      <th>cov_newclin_youth</th>\n",
       "    </tr>\n",
       "  </thead>\n",
       "  <tbody>\n",
       "    <tr>\n",
       "      <th>0</th>\n",
       "      <td>2000</td>\n",
       "      <td>0.054991</td>\n",
       "    </tr>\n",
       "    <tr>\n",
       "      <th>1</th>\n",
       "      <td>2001</td>\n",
       "      <td>0.046724</td>\n",
       "    </tr>\n",
       "    <tr>\n",
       "      <th>2</th>\n",
       "      <td>2002</td>\n",
       "      <td>0.039236</td>\n",
       "    </tr>\n",
       "    <tr>\n",
       "      <th>3</th>\n",
       "      <td>2003</td>\n",
       "      <td>0.038605</td>\n",
       "    </tr>\n",
       "    <tr>\n",
       "      <th>4</th>\n",
       "      <td>2004</td>\n",
       "      <td>0.051682</td>\n",
       "    </tr>\n",
       "    <tr>\n",
       "      <th>5</th>\n",
       "      <td>2005</td>\n",
       "      <td>0.081496</td>\n",
       "    </tr>\n",
       "    <tr>\n",
       "      <th>6</th>\n",
       "      <td>2006</td>\n",
       "      <td>0.123449</td>\n",
       "    </tr>\n",
       "    <tr>\n",
       "      <th>7</th>\n",
       "      <td>2007</td>\n",
       "      <td>0.172832</td>\n",
       "    </tr>\n",
       "    <tr>\n",
       "      <th>8</th>\n",
       "      <td>2008</td>\n",
       "      <td>0.227889</td>\n",
       "    </tr>\n",
       "    <tr>\n",
       "      <th>9</th>\n",
       "      <td>2009</td>\n",
       "      <td>0.288839</td>\n",
       "    </tr>\n",
       "    <tr>\n",
       "      <th>10</th>\n",
       "      <td>2010</td>\n",
       "      <td>0.354995</td>\n",
       "    </tr>\n",
       "    <tr>\n",
       "      <th>11</th>\n",
       "      <td>2011</td>\n",
       "      <td>0.413490</td>\n",
       "    </tr>\n",
       "    <tr>\n",
       "      <th>12</th>\n",
       "      <td>2012</td>\n",
       "      <td>0.460417</td>\n",
       "    </tr>\n",
       "    <tr>\n",
       "      <th>13</th>\n",
       "      <td>2013</td>\n",
       "      <td>0.500799</td>\n",
       "    </tr>\n",
       "    <tr>\n",
       "      <th>14</th>\n",
       "      <td>2014</td>\n",
       "      <td>0.541496</td>\n",
       "    </tr>\n",
       "    <tr>\n",
       "      <th>15</th>\n",
       "      <td>2015</td>\n",
       "      <td>0.588247</td>\n",
       "    </tr>\n",
       "    <tr>\n",
       "      <th>16</th>\n",
       "      <td>2016</td>\n",
       "      <td>0.628480</td>\n",
       "    </tr>\n",
       "    <tr>\n",
       "      <th>17</th>\n",
       "      <td>2017</td>\n",
       "      <td>0.649429</td>\n",
       "    </tr>\n",
       "    <tr>\n",
       "      <th>18</th>\n",
       "      <td>2018</td>\n",
       "      <td>0.659916</td>\n",
       "    </tr>\n",
       "    <tr>\n",
       "      <th>19</th>\n",
       "      <td>2019</td>\n",
       "      <td>0.659718</td>\n",
       "    </tr>\n",
       "    <tr>\n",
       "      <th>20</th>\n",
       "      <td>2020</td>\n",
       "      <td>0.656654</td>\n",
       "    </tr>\n",
       "  </tbody>\n",
       "</table>\n",
       "</div>"
      ],
      "text/plain": [
       "    year  cov_newclin_youth\n",
       "0   2000           0.054991\n",
       "1   2001           0.046724\n",
       "2   2002           0.039236\n",
       "3   2003           0.038605\n",
       "4   2004           0.051682\n",
       "5   2005           0.081496\n",
       "6   2006           0.123449\n",
       "7   2007           0.172832\n",
       "8   2008           0.227889\n",
       "9   2009           0.288839\n",
       "10  2010           0.354995\n",
       "11  2011           0.413490\n",
       "12  2012           0.460417\n",
       "13  2013           0.500799\n",
       "14  2014           0.541496\n",
       "15  2015           0.588247\n",
       "16  2016           0.628480\n",
       "17  2017           0.649429\n",
       "18  2018           0.659916\n",
       "19  2019           0.659718\n",
       "20  2020           0.656654"
      ]
     },
     "execution_count": 15,
     "metadata": {},
     "output_type": "execute_result"
    }
   ],
   "source": [
    "hs_df"
   ]
  },
  {
   "cell_type": "code",
   "execution_count": 16,
   "metadata": {},
   "outputs": [],
   "source": [
    "hs_df.to_csv(\"ssa_historical_hs.csv\", index=False)"
   ]
  },
  {
   "cell_type": "code",
   "execution_count": null,
   "metadata": {},
   "outputs": [],
   "source": []
  }
 ],
 "metadata": {
  "kernelspec": {
   "display_name": "Python 3",
   "language": "python",
   "name": "python3"
  },
  "language_info": {
   "codemirror_mode": {
    "name": "ipython",
    "version": 3
   },
   "file_extension": ".py",
   "mimetype": "text/x-python",
   "name": "python",
   "nbconvert_exporter": "python",
   "pygments_lexer": "ipython3",
   "version": "3.6.8"
  }
 },
 "nbformat": 4,
 "nbformat_minor": 4
}
