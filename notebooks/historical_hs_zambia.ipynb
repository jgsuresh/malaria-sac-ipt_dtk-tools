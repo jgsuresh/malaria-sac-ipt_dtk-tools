{
 "cells": [
  {
   "cell_type": "code",
   "execution_count": 2,
   "metadata": {},
   "outputs": [],
   "source": [
    "import pandas as pd\n",
    "import numpy as np\n",
    "import matplotlib\n",
    "matplotlib.rcParams['pdf.fonttype'] = 42\n",
    "import matplotlib.pyplot as plt\n",
    "import seaborn as sns\n",
    "\n",
    "sns.set_context(\"talk\")\n",
    "sns.set_style(\"darkgrid\")"
   ]
  },
  {
   "cell_type": "code",
   "execution_count": 5,
   "metadata": {},
   "outputs": [],
   "source": [
    "df = pd.read_csv(\"grid_all_healthseek_events.csv\")\n",
    "lookup = pd.read_csv(\"grid_lookup.csv\")\n",
    "\n",
    "df = df.merge(lookup[[\"grid_cell\", \"pop\"]], on=\"grid_cell\", how=\"left\")"
   ]
  },
  {
   "cell_type": "code",
   "execution_count": 7,
   "metadata": {},
   "outputs": [],
   "source": [
    "df[\"year\"] = df[\"fulldate\"].apply(lambda x: np.float(x[:4])).astype(np.int)"
   ]
  },
  {
   "cell_type": "code",
   "execution_count": 13,
   "metadata": {},
   "outputs": [],
   "source": [
    "df[\"pop_cov\"] = df[\"pop\"]*df[\"cov_newclin_youth\"]"
   ]
  },
  {
   "cell_type": "code",
   "execution_count": 14,
   "metadata": {},
   "outputs": [],
   "source": [
    "foo = df.groupby(\"year\").agg({\"pop\": \"sum\", \"pop_cov\": \"sum\"}).reset_index()\n",
    "foo[\"cov_all\"] = foo[\"pop_cov\"]/foo[\"pop\"]"
   ]
  },
  {
   "cell_type": "code",
   "execution_count": 15,
   "metadata": {},
   "outputs": [
    {
     "data": {
      "text/html": [
       "<div>\n",
       "<style scoped>\n",
       "    .dataframe tbody tr th:only-of-type {\n",
       "        vertical-align: middle;\n",
       "    }\n",
       "\n",
       "    .dataframe tbody tr th {\n",
       "        vertical-align: top;\n",
       "    }\n",
       "\n",
       "    .dataframe thead th {\n",
       "        text-align: right;\n",
       "    }\n",
       "</style>\n",
       "<table border=\"1\" class=\"dataframe\">\n",
       "  <thead>\n",
       "    <tr style=\"text-align: right;\">\n",
       "      <th></th>\n",
       "      <th>year</th>\n",
       "      <th>pop</th>\n",
       "      <th>pop_cov</th>\n",
       "      <th>cov_all</th>\n",
       "    </tr>\n",
       "  </thead>\n",
       "  <tbody>\n",
       "    <tr>\n",
       "      <th>0</th>\n",
       "      <td>2010</td>\n",
       "      <td>321537.0</td>\n",
       "      <td>174563.629669</td>\n",
       "      <td>0.542904</td>\n",
       "    </tr>\n",
       "    <tr>\n",
       "      <th>1</th>\n",
       "      <td>2014</td>\n",
       "      <td>321537.0</td>\n",
       "      <td>211026.692198</td>\n",
       "      <td>0.656306</td>\n",
       "    </tr>\n",
       "  </tbody>\n",
       "</table>\n",
       "</div>"
      ],
      "text/plain": [
       "   year       pop        pop_cov   cov_all\n",
       "0  2010  321537.0  174563.629669  0.542904\n",
       "1  2014  321537.0  211026.692198  0.656306"
      ]
     },
     "execution_count": 15,
     "metadata": {},
     "output_type": "execute_result"
    }
   ],
   "source": [
    "foo"
   ]
  },
  {
   "cell_type": "markdown",
   "metadata": {},
   "source": [
    "## Fill in rest of spline using ITN scale up"
   ]
  },
  {
   "cell_type": "markdown",
   "metadata": {},
   "source": [
    "### Add smoothed version of spline"
   ]
  },
  {
   "cell_type": "code",
   "execution_count": 16,
   "metadata": {},
   "outputs": [],
   "source": [
    "spline_df = pd.read_csv(\"southern_historical_itn.csv\")"
   ]
  },
  {
   "cell_type": "code",
   "execution_count": 18,
   "metadata": {},
   "outputs": [],
   "source": [
    "def fit_lowess_spline(x, y, frac=0.67, return_error=False, percentile_top=80, percentile_bottom=20):\n",
    "    # From https://james-brennan.github.io/posts/lowess_conf/\n",
    "    from statsmodels.nonparametric.smoothers_lowess import lowess as sm_lowess\n",
    "\n",
    "    def smooth(x, y, xgrid, frac=0.67):\n",
    "        samples = np.random.choice(len(x), 50, replace=True)\n",
    "        y_s = y[samples]\n",
    "        x_s = x[samples]\n",
    "        y_sm = sm_lowess(y_s, x_s, frac=frac, it=5,\n",
    "                         return_sorted=False)\n",
    "        # regularly sample it onto the grid\n",
    "        y_grid = scipy.interpolate.interp1d(x_s, y_sm,\n",
    "                                            fill_value='extrapolate')(xgrid)\n",
    "        return y_grid\n",
    "\n",
    "    if not return_error:\n",
    "        sm_x, sm_y = sm_lowess(y, x, frac=frac, return_sorted=True).T\n",
    "        return sm_x, sm_y\n",
    "    elif return_error:\n",
    "        xgrid = np.linspace(x.min(), x.max())\n",
    "        K = 100\n",
    "        smooths = np.stack([smooth(x, y, xgrid, frac=frac) for k in range(K)]).T\n",
    "\n",
    "        mean = np.nanmean(smooths, axis=1)\n",
    "        #         median = np.nanmedian(smooths, axis=1)\n",
    "        q_top = np.nanpercentile(smooths, percentile_top, axis=1)\n",
    "        q_bot = np.nanpercentile(smooths, percentile_bottom, axis=1)\n",
    "\n",
    "        return xgrid, mean, q_bot, q_top\n"
   ]
  },
  {
   "cell_type": "code",
   "execution_count": 24,
   "metadata": {
    "scrolled": true
   },
   "outputs": [
    {
     "data": {
      "image/png": "[encoded data removed]",
      "text/plain": [
       "<Figure size 432x288 with 1 Axes>"
      ]
     },
     "metadata": {},
     "output_type": "display_data"
    }
   ],
   "source": [
    "x = spline_df[\"year\"]\n",
    "y = spline_df[\"cov_all\"]\n",
    "\n",
    "plt.scatter(xs,ys)\n",
    "plt.plot(x,y)\n",
    "\n",
    "xs,ys = fit_lowess_spline(x,y,frac=0.3)"
   ]
  },
  {
   "cell_type": "code",
   "execution_count": 26,
   "metadata": {},
   "outputs": [],
   "source": [
    "spline_df[\"cov_smoothed\"] = ys"
   ]
  },
  {
   "cell_type": "code",
   "execution_count": 28,
   "metadata": {},
   "outputs": [],
   "source": [
    "spline_df.to_csv(\"southern_historical_itn.csv\", index=False)"
   ]
  },
  {
   "cell_type": "markdown",
   "metadata": {},
   "source": [
    "### Now apply smoothed spline to healthseeking"
   ]
  },
  {
   "cell_type": "code",
   "execution_count": 37,
   "metadata": {},
   "outputs": [
    {
     "name": "stdout",
     "output_type": "stream",
     "text": [
      "[0.05491942 0.0540625  0.05376928 0.06020986 0.10100293 0.17406264\n",
      " 0.26116214 0.344639   0.41176209 0.47341052 0.542904  ]\n",
      "[2000 2001 2002 2003 2004 2005 2006 2007 2008 2009 2010 2011 2012 2013\n",
      " 2014 2015 2016 2017 2018 2019 2020]\n"
     ]
    }
   ],
   "source": [
    "s = np.array(spline_df[\"cov_smoothed\"][spline_df[\"year\"]<=2010])\n",
    "s_rescale = s*0.542904/np.max(s)\n",
    "print(s_rescale)"
   ]
  },
  {
   "cell_type": "code",
   "execution_count": 49,
   "metadata": {},
   "outputs": [
    {
     "name": "stdout",
     "output_type": "stream",
     "text": [
      "[2000 2001 2002 2003 2004 2005 2006 2007 2008 2009 2010 2011 2012 2013\n",
      " 2014 2015 2016 2017 2018 2019 2020]\n",
      "[0.05491942 0.0540625  0.05376928 0.06020986 0.10100293 0.17406264\n",
      " 0.26116214 0.344639   0.41176209 0.47341052 0.542904   0.542904\n",
      " 0.542904   0.542904   0.656306   0.656306   0.656306   0.656306\n",
      " 0.656306   0.656306   0.656306  ]\n"
     ]
    },
    {
     "data": {
      "text/plain": [
       "[<matplotlib.lines.Line2D at 0x18225e273c8>]"
      ]
     },
     "execution_count": 49,
     "metadata": {},
     "output_type": "execute_result"
    },
    {
     "data": {
      "image/png": "[encoded data removed]",
      "text/plain": [
       "<Figure size 432x288 with 1 Axes>"
      ]
     },
     "metadata": {},
     "output_type": "display_data"
    }
   ],
   "source": [
    "y = np.arange(2000,2021)\n",
    "v = np.append(s_rescale, [np.max(s_rescale)]*3)\n",
    "v = np.append(v, [0.656306]*7)\n",
    "print(y)\n",
    "print(v)\n",
    "\n",
    "plt.plot(y,v, marker='o')"
   ]
  },
  {
   "cell_type": "code",
   "execution_count": 50,
   "metadata": {},
   "outputs": [],
   "source": [
    "hs_df = pd.DataFrame({\n",
    "    \"year\": y,\n",
    "    \"cov_newclin_youth\": v\n",
    "})"
   ]
  },
  {
   "cell_type": "code",
   "execution_count": 55,
   "metadata": {},
   "outputs": [],
   "source": [
    "hs_df.to_csv(\"southern_historical_hs.csv\", index=False)"
   ]
  },
  {
   "cell_type": "code",
   "execution_count": 57,
   "metadata": {},
   "outputs": [
    {
     "name": "stdout",
     "output_type": "stream",
     "text": [
      "2000.0\n",
      "2001.0\n",
      "2002.0\n",
      "2003.0\n",
      "2004.0\n",
      "2005.0\n",
      "2006.0\n",
      "2007.0\n",
      "2008.0\n",
      "2009.0\n",
      "2010.0\n",
      "2011.0\n",
      "2012.0\n",
      "2013.0\n",
      "2014.0\n",
      "2015.0\n",
      "2016.0\n",
      "2017.0\n",
      "2018.0\n",
      "2019.0\n",
      "2020.0\n"
     ]
    }
   ],
   "source": [
    "for index, row in hs_df.iterrows(): \n",
    "    print(row[\"year\"])"
   ]
  },
  {
   "cell_type": "code",
   "execution_count": null,
   "metadata": {},
   "outputs": [],
   "source": []
  }
 ],
 "metadata": {
  "kernelspec": {
   "display_name": "Python 3",
   "language": "python",
   "name": "python3"
  },
  "language_info": {
   "codemirror_mode": {
    "name": "ipython",
    "version": 3
   },
   "file_extension": ".py",
   "mimetype": "text/x-python",
   "name": "python",
   "nbconvert_exporter": "python",
   "pygments_lexer": "ipython3",
   "version": "3.6.8"
  }
 },
 "nbformat": 4,
 "nbformat_minor": 4
}
